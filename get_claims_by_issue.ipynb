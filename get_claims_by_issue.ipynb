{
 "cells": [
  {
   "cell_type": "code",
   "execution_count": null,
   "metadata": {},
   "outputs": [],
   "source": [
    "# https://www.politifact.com/factchecks/list/?page=1&speaker_type=SOCIAL\n",
    "# Until page 73"
   ]
  },
  {
   "cell_type": "code",
   "execution_count": 5,
   "metadata": {},
   "outputs": [
    {
     "name": "stdout",
     "output_type": "stream",
     "text": [
      "Successfully fetched: https://www.politifact.com/lgbtq/\n"
     ]
    }
   ],
   "source": [
    "import requests\n",
    "import json\n",
    "from bs4 import BeautifulSoup\n",
    "import time\n",
    "from tqdm import tqdm\n",
    "# Define labels and lists\n",
    "labels = {\n",
    "    \"politifact\": [\"True\", \"Mostly True\", \"Half True\", \"Mostly False\", \"False\", \"Pants on Fire\"]\n",
    "}\n",
    "\n",
    "ruling_map = {\n",
    "    \"True\": \"true\",\n",
    "    \"Mostly True\": \"mostly-true\",\n",
    "    \"Half True\": \"half-true\",\n",
    "    \"Mostly False\": \"barely-true\",\n",
    "    \"False\": \"false\",\n",
    "    \"Pants on Fire\": \"pants-fire\"\n",
    "}\n",
    "\n",
    "issues = [\n",
    "    \"https://www.politifact.com/abortion/\",\n",
    "    \"https://www.politifact.com/animals/\",\n",
    "    \"https://www.politifact.com/border-security/\",\n",
    "    \"https://www.politifact.com/climate-change/\",\n",
    "    \"https://www.politifact.com/coronavirus/\",\n",
    "    \"https://www.politifact.com/crime/\",\n",
    "    \"https://www.politifact.com/corporations/\", \n",
    "    \"https://www.politifact.com/children/\",\n",
    "    \"https://www.politifact.com/drugs/\",\n",
    "    \"https://www.politifact.com/economy/\",\n",
    "    \"https://www.politifact.com/education/\",\n",
    "    \"https://www.politifact.com/energy/\",\n",
    "    \"https://www.politifact.com/environment/\",\n",
    "    \"https://www.politifact.com/ethics/\",\n",
    "    \"https://www.politifact.com/food/\",        \n",
    "    \"https://www.politifact.com/guns/\",\n",
    "    \"https://www.politifact.com/health-care/\",\n",
    "    \"https://www.politifact.com/housing/\",\n",
    "    \"https://www.politifact.com/human-rights/\",\n",
    "    \"https://www.politifact.com/history/\",\n",
    "    \"https://www.politifact.com/military/\",\n",
    "    \"https://www.politifact.com/natural-disasters/\",\n",
    "    \"https://www.politifact.com/welfare/\",\n",
    "    \"https://www.politifact.com/weather/\",\n",
    "    \"https://www.politifact.com/taxes/\",\n",
    "    \"https://www.politifact.com/technology/\",\n",
    "    \"https://www.politifact.com/sports/\",\n",
    "    \"https://www.politifact.com/science/\",\n",
    "    \"https://www.politifact.com/religion/\",\n",
    "    \"https://www.politifact.com/lgbtq/\"\n",
    "]\n",
    "\n",
    "# Initialize a dictionary to store data\n",
    "issue_scorecards = {}\n",
    "\n",
    "headers = {\n",
    "    'User-Agent': 'Mozilla/5.0 (Macintosh; Intel Mac OS X 10_15_7) AppleWebKit/537.36 (KHTML, like Gecko) Chrome/91.0.4472.124 Safari/537.36',\n",
    "    'Accept': 'text/html,application/xhtml+xml,application/xml;q=0.9,image/webp,*/*;q=0.8',\n",
    "    'Accept-Language': 'en-US,en;q=0.5',\n",
    "    'Connection': 'keep-alive',\n",
    "}\n",
    "\n",
    "failed_issues = []\n",
    "for issue_url in tqdm(issues, total=len(issues)):\n",
    "    try:\n",
    "        response = requests.get(issue_url, headers=headers, timeout=60)\n",
    "        response.raise_for_status()\n",
    "        print(f\"Successfully fetched: {issue_url}\")\n",
    "    except requests.exceptions.RequestException as e:\n",
    "        print(f\"Error fetching {issue_url}: {e}\")\n",
    "        failed_issues.append(issue_url)\n",
    "        continue\n",
    "\n",
    "    soup = BeautifulSoup(response.text, 'html.parser')\n",
    "    scorecard_div = soup.find('div', class_='m-scorecard o-platform--is-wide')\n",
    "\n",
    "    if not scorecard_div:\n",
    "        print(f\"No scorecard found for {issue_url}\")\n",
    "        continue\n",
    "\n",
    "    scorecard_data = {}\n",
    "    for item in scorecard_div.find_all('div', class_='m-scorecard__item'):\n",
    "        # Extract category title\n",
    "        title_tag = item.find('h4', class_='m-scorecard__title')\n",
    "        if title_tag:\n",
    "            title = title_tag.get_text(strip=True)\n",
    "        else:\n",
    "            title = \"Unknown\"\n",
    "\n",
    "        # Extract percentage\n",
    "        bar_div = item.find('div', class_='m-scorecard__bar')\n",
    "        percentage = bar_div.get('data-scorecard-bar', 0) if bar_div else 0\n",
    "\n",
    "        # Extract number of checks\n",
    "        checks_tag = item.find('p', class_='m-scorecard__checks')\n",
    "        if checks_tag:\n",
    "            checks_text = checks_tag.find('a').get_text(strip=True)\n",
    "            checks = ''.join(filter(str.isdigit, checks_text))\n",
    "        else:\n",
    "            checks = 0\n",
    "\n",
    "        scorecard_data[title] = {\n",
    "            'percentage': int(percentage),\n",
    "            'checks': int(checks)\n",
    "        }\n",
    "\n",
    "    issue_scorecards[issue_url] = scorecard_data\n",
    "    time.sleep(1)\n",
    "\n",
    "# Save the collected data to a JSON file\n",
    "with open('issue_scorecards.json', 'w', encoding='utf-8') as f:\n",
    "    json.dump(issue_scorecards, f, indent=2)"
   ]
  },
  {
   "cell_type": "code",
   "execution_count": 6,
   "metadata": {},
   "outputs": [
    {
     "name": "stdout",
     "output_type": "stream",
     "text": [
      "Total number of checks: 17839\n"
     ]
    }
   ],
   "source": [
    "# Calculate the total number of checks\n",
    "total_checks = sum(cat_data['checks'] for _, scorecard_data in issue_scorecards.items() for cat_data in scorecard_data.values())\n",
    "print(f\"Total number of checks: {total_checks}\")"
   ]
  },
  {
   "cell_type": "code",
   "execution_count": 9,
   "metadata": {},
   "outputs": [],
   "source": [
    "# Get all claims within each issue - category-label, only if it is after the threshold-date Jan 1st 2023\n",
    "import trafilatura\n",
    "import re\n",
    "from trafilatura.settings import DEFAULT_CONFIG\n",
    "from bs4 import BeautifulSoup\n",
    "import time\n",
    "from tqdm import tqdm\n",
    "from datetime import datetime\n",
    "import matplotlib.pyplot as plt\n",
    "import json\n",
    "\n",
    "url_template = \"https://www.politifact.com/factchecks/list/?page={page}&category={category}&ruling={ruling}\"\n",
    "\n",
    "threhsold_date = \"01-01-2021\" # Jan 1st 2022\n",
    "dt_threshold_date = datetime.strptime(threhsold_date, \"%m-%d-%Y\")\n",
    "\n",
    "ruling_map = {\n",
    "    \"True\": \"true\",\n",
    "    \"Mostly True\": \"mostly-true\",\n",
    "    \"Half True\": \"half-true\",\n",
    "    \"Mostly False\": \"barely-true\",\n",
    "    \"False\": \"false\",\n",
    "    \"Pants on Fire\": \"pants-fire\"\n",
    "}\n",
    "\n",
    "def extract_claim_data(url, page_num, dt_threshold_date):\n",
    "    page = trafilatura.fetch_url(url, config=DEFAULT_CONFIG)\n",
    "    if not page:\n",
    "        print(f\"No page found for {url}\")\n",
    "        return []\n",
    "    # Fetch the page\n",
    "    soup = BeautifulSoup(page, 'html.parser')\n",
    "\n",
    "    # Initialize a list to store all extracted statements\n",
    "    extracted_claims = []\n",
    "\n",
    "    # Find all statement articles on the page\n",
    "    stop_next = False\n",
    "    for statement in soup.find_all('article', class_='m-statement'):\n",
    "        # Extract Author Name and URL\n",
    "        author_tag = statement.find('a', class_='m-statement__name')\n",
    "        if author_tag:\n",
    "            author_name = author_tag.get_text(strip=True)\n",
    "            author_url = 'https://www.politifact.com' + author_tag.get('href', '')\n",
    "        else:\n",
    "            author_name = None\n",
    "            author_url = None\n",
    "\n",
    "        # Extract Statement Text and URL\n",
    "        quote_wrap = statement.find('div', class_='m-statement__quote-wrap')\n",
    "        if quote_wrap:\n",
    "            quote_tag = quote_wrap.find('a')\n",
    "            if quote_tag:\n",
    "                statement_text = quote_tag.get_text(strip=True)\n",
    "                statement_url = 'https://www.politifact.com' + quote_tag.get('href', '')\n",
    "            else:\n",
    "                statement_text = None\n",
    "                statement_url = None\n",
    "        else:\n",
    "            statement_text = None\n",
    "            statement_url = None\n",
    "\n",
    "        # Extract Date of Statement\n",
    "        desc_tag = statement.find('div', class_='m-statement__desc')\n",
    "        if desc_tag:\n",
    "            desc_text = desc_tag.get_text(strip=True)\n",
    "            date_match = re.search(r'stated on ([A-Za-z]+\\s\\d{1,2},\\s\\d{4})', desc_text)\n",
    "            if date_match:\n",
    "                date_of_statement = date_match.group(1)\n",
    "                date_of_statement_obj = datetime.strptime(date_of_statement, \"%B %d, %Y\")\n",
    "            else:\n",
    "                date_of_statement = None\n",
    "                print(f\"No statement date found for article: {statement_url}\")\n",
    "                continue\n",
    "\n",
    "            # We skip if the date of statement is before the threshold date\n",
    "            if date_of_statement and date_of_statement_obj <= dt_threshold_date:\n",
    "                stop_next = True\n",
    "                continue\n",
    "        else:\n",
    "            date_of_statement = None\n",
    "\n",
    "        # Extract Fact Checker's Name and Date of Fact Check\n",
    "        footer_tag = statement.find('footer', class_='m-statement__footer')\n",
    "        if footer_tag:\n",
    "            footer_text = footer_tag.get_text(strip=True)\n",
    "            # Use regex to split the fact checker's name and date\n",
    "            # I have to make this more generic\n",
    "\n",
    "            fact_check_match = re.match(r'By\\s+([A-Za-zÀ-ÿ\\.\\'\\-\\s]+)\\s+•\\s+([A-Za-z]+\\s\\d{1,2},\\s\\d{4})', footer_text, re.UNICODE)\n",
    "            if fact_check_match:\n",
    "                fact_checker_name = fact_check_match.group(1)\n",
    "                fact_check_date = fact_check_match.group(2)\n",
    "            else:\n",
    "                fact_checker_name = None\n",
    "                fact_check_date = None\n",
    "        else:\n",
    "            fact_checker_name = None\n",
    "            fact_check_date = None\n",
    "\n",
    "        # Compile the extracted data into a dictionary\n",
    "        statement_data = {\n",
    "            'author_name': author_name,\n",
    "            'author_url': author_url,\n",
    "            'date_of_statement': date_of_statement,\n",
    "            'statement_text': statement_text,\n",
    "            'statement_url': statement_url,\n",
    "            'fact_checker_name': fact_checker_name,\n",
    "            'fact_check_date': fact_check_date,\n",
    "            'page': page_num\n",
    "        }\n",
    "\n",
    "        # Append the dictionary to the list of extracted statements\n",
    "        extracted_claims.append(statement_data)\n",
    "\n",
    "    if stop_next:\n",
    "        return extracted_claims, False\n",
    "\n",
    "    # Check if there is a next button\n",
    "    next_button = soup.find('a', class_='c-button c-button--hollow', string='Next')\n",
    "    if next_button:\n",
    "        return extracted_claims, True\n",
    "    else:\n",
    "        return extracted_claims, False"
   ]
  },
  {
   "cell_type": "code",
   "execution_count": 10,
   "metadata": {},
   "outputs": [
    {
     "name": "stdout",
     "output_type": "stream",
     "text": [
      "Processing issue: https://www.politifact.com/abortion/\n"
     ]
    },
    {
     "name": "stderr",
     "output_type": "stream",
     "text": [
      " 17%|█▋        | 1/6 [00:13<01:08, 13.73s/it]"
     ]
    },
    {
     "name": "stdout",
     "output_type": "stream",
     "text": [
      "Stopping at: https://www.politifact.com/factchecks/list/?page=1&category=abortion&ruling=true\n"
     ]
    },
    {
     "name": "stderr",
     "output_type": "stream",
     "text": [
      " 33%|███▎      | 2/6 [00:25<00:50, 12.52s/it]"
     ]
    },
    {
     "name": "stdout",
     "output_type": "stream",
     "text": [
      "Stopping at: https://www.politifact.com/factchecks/list/?page=1&category=abortion&ruling=mostly-true\n"
     ]
    },
    {
     "name": "stderr",
     "output_type": "stream",
     "text": [
      " 50%|█████     | 3/6 [00:36<00:35, 11.84s/it]"
     ]
    },
    {
     "name": "stdout",
     "output_type": "stream",
     "text": [
      "Stopping at: https://www.politifact.com/factchecks/list/?page=1&category=abortion&ruling=half-true\n"
     ]
    },
    {
     "name": "stderr",
     "output_type": "stream",
     "text": [
      " 67%|██████▋   | 4/6 [00:49<00:24, 12.34s/it]"
     ]
    },
    {
     "name": "stdout",
     "output_type": "stream",
     "text": [
      "Stopping at: https://www.politifact.com/factchecks/list/?page=2&category=abortion&ruling=barely-true\n"
     ]
    },
    {
     "name": "stderr",
     "output_type": "stream",
     "text": [
      " 83%|████████▎ | 5/6 [01:06<00:13, 13.95s/it]"
     ]
    },
    {
     "name": "stdout",
     "output_type": "stream",
     "text": [
      "Stopping at: https://www.politifact.com/factchecks/list/?page=2&category=abortion&ruling=false\n"
     ]
    },
    {
     "name": "stderr",
     "output_type": "stream",
     "text": [
      "100%|██████████| 6/6 [01:22<00:00, 13.67s/it]\n"
     ]
    },
    {
     "name": "stdout",
     "output_type": "stream",
     "text": [
      "Stopping at: https://www.politifact.com/factchecks/list/?page=1&category=abortion&ruling=pants-fire\n",
      "Processing issue: https://www.politifact.com/animals/\n"
     ]
    },
    {
     "name": "stderr",
     "output_type": "stream",
     "text": [
      " 17%|█▋        | 1/6 [00:06<00:34,  6.84s/it]"
     ]
    },
    {
     "name": "stdout",
     "output_type": "stream",
     "text": [
      "Stopping at: https://www.politifact.com/factchecks/list/?page=1&category=animals&ruling=true\n"
     ]
    },
    {
     "name": "stderr",
     "output_type": "stream",
     "text": [
      " 33%|███▎      | 2/6 [00:16<00:34,  8.52s/it]"
     ]
    },
    {
     "name": "stdout",
     "output_type": "stream",
     "text": [
      "Stopping at: https://www.politifact.com/factchecks/list/?page=1&category=animals&ruling=mostly-true\n"
     ]
    },
    {
     "name": "stderr",
     "output_type": "stream",
     "text": [
      " 50%|█████     | 3/6 [00:28<00:29,  9.98s/it]"
     ]
    },
    {
     "name": "stdout",
     "output_type": "stream",
     "text": [
      "Stopping at: https://www.politifact.com/factchecks/list/?page=1&category=animals&ruling=half-true\n"
     ]
    },
    {
     "name": "stderr",
     "output_type": "stream",
     "text": [
      " 67%|██████▋   | 4/6 [00:32<00:15,  7.66s/it]"
     ]
    },
    {
     "name": "stdout",
     "output_type": "stream",
     "text": [
      "Stopping at: https://www.politifact.com/factchecks/list/?page=1&category=animals&ruling=barely-true\n"
     ]
    },
    {
     "name": "stderr",
     "output_type": "stream",
     "text": [
      " 83%|████████▎ | 5/6 [00:34<00:05,  5.71s/it]"
     ]
    },
    {
     "name": "stdout",
     "output_type": "stream",
     "text": [
      "Stopping at: https://www.politifact.com/factchecks/list/?page=1&category=animals&ruling=false\n"
     ]
    },
    {
     "name": "stderr",
     "output_type": "stream",
     "text": [
      "100%|██████████| 6/6 [00:40<00:00,  6.77s/it]\n"
     ]
    },
    {
     "name": "stdout",
     "output_type": "stream",
     "text": [
      "Stopping at: https://www.politifact.com/factchecks/list/?page=1&category=animals&ruling=pants-fire\n",
      "Processing issue: https://www.politifact.com/border-security/\n"
     ]
    },
    {
     "name": "stderr",
     "output_type": "stream",
     "text": [
      " 17%|█▋        | 1/6 [00:03<00:17,  3.48s/it]"
     ]
    },
    {
     "name": "stdout",
     "output_type": "stream",
     "text": [
      "Stopping at: https://www.politifact.com/factchecks/list/?page=1&category=border-security&ruling=true\n"
     ]
    },
    {
     "name": "stderr",
     "output_type": "stream",
     "text": [
      " 33%|███▎      | 2/6 [00:07<00:14,  3.65s/it]"
     ]
    },
    {
     "name": "stdout",
     "output_type": "stream",
     "text": [
      "Stopping at: https://www.politifact.com/factchecks/list/?page=1&category=border-security&ruling=mostly-true\n"
     ]
    },
    {
     "name": "stderr",
     "output_type": "stream",
     "text": [
      " 50%|█████     | 3/6 [00:12<00:13,  4.47s/it]"
     ]
    },
    {
     "name": "stdout",
     "output_type": "stream",
     "text": [
      "Stopping at: https://www.politifact.com/factchecks/list/?page=1&category=border-security&ruling=half-true\n"
     ]
    },
    {
     "name": "stderr",
     "output_type": "stream",
     "text": [
      " 67%|██████▋   | 4/6 [00:19<00:10,  5.26s/it]"
     ]
    },
    {
     "name": "stdout",
     "output_type": "stream",
     "text": [
      "Stopping at: https://www.politifact.com/factchecks/list/?page=1&category=border-security&ruling=barely-true\n"
     ]
    },
    {
     "name": "stderr",
     "output_type": "stream",
     "text": [
      " 83%|████████▎ | 5/6 [00:30<00:07,  7.46s/it]"
     ]
    },
    {
     "name": "stdout",
     "output_type": "stream",
     "text": [
      "Stopping at: https://www.politifact.com/factchecks/list/?page=2&category=border-security&ruling=false\n"
     ]
    },
    {
     "name": "stderr",
     "output_type": "stream",
     "text": [
      "100%|██████████| 6/6 [00:33<00:00,  5.57s/it]\n"
     ]
    },
    {
     "name": "stdout",
     "output_type": "stream",
     "text": [
      "Stopping at: https://www.politifact.com/factchecks/list/?page=1&category=border-security&ruling=pants-fire\n",
      "Processing issue: https://www.politifact.com/climate-change/\n"
     ]
    },
    {
     "name": "stderr",
     "output_type": "stream",
     "text": [
      " 17%|█▋        | 1/6 [00:12<01:04, 12.99s/it]"
     ]
    },
    {
     "name": "stdout",
     "output_type": "stream",
     "text": [
      "Stopping at: https://www.politifact.com/factchecks/list/?page=1&category=climate-change&ruling=true\n"
     ]
    },
    {
     "name": "stderr",
     "output_type": "stream",
     "text": [
      " 33%|███▎      | 2/6 [00:24<00:49, 12.27s/it]"
     ]
    },
    {
     "name": "stdout",
     "output_type": "stream",
     "text": [
      "Stopping at: https://www.politifact.com/factchecks/list/?page=1&category=climate-change&ruling=mostly-true\n"
     ]
    },
    {
     "name": "stderr",
     "output_type": "stream",
     "text": [
      " 50%|█████     | 3/6 [00:37<00:37, 12.42s/it]"
     ]
    },
    {
     "name": "stdout",
     "output_type": "stream",
     "text": [
      "Stopping at: https://www.politifact.com/factchecks/list/?page=1&category=climate-change&ruling=half-true\n"
     ]
    },
    {
     "name": "stderr",
     "output_type": "stream",
     "text": [
      " 67%|██████▋   | 4/6 [00:46<00:22, 11.04s/it]"
     ]
    },
    {
     "name": "stdout",
     "output_type": "stream",
     "text": [
      "Stopping at: https://www.politifact.com/factchecks/list/?page=1&category=climate-change&ruling=barely-true\n"
     ]
    },
    {
     "name": "stderr",
     "output_type": "stream",
     "text": [
      " 83%|████████▎ | 5/6 [00:56<00:10, 10.85s/it]"
     ]
    },
    {
     "name": "stdout",
     "output_type": "stream",
     "text": [
      "Stopping at: https://www.politifact.com/factchecks/list/?page=3&category=climate-change&ruling=false\n"
     ]
    },
    {
     "name": "stderr",
     "output_type": "stream",
     "text": [
      "100%|██████████| 6/6 [01:04<00:00, 10.79s/it]\n"
     ]
    },
    {
     "name": "stdout",
     "output_type": "stream",
     "text": [
      "Stopping at: https://www.politifact.com/factchecks/list/?page=1&category=climate-change&ruling=pants-fire\n",
      "Processing issue: https://www.politifact.com/coronavirus/\n"
     ]
    },
    {
     "name": "stderr",
     "output_type": "stream",
     "text": [
      " 17%|█▋        | 1/6 [00:13<01:07, 13.54s/it]"
     ]
    },
    {
     "name": "stdout",
     "output_type": "stream",
     "text": [
      "Stopping at: https://www.politifact.com/factchecks/list/?page=1&category=coronavirus&ruling=true\n"
     ]
    },
    {
     "name": "stderr",
     "output_type": "stream",
     "text": [
      " 33%|███▎      | 2/6 [00:27<00:55, 13.93s/it]"
     ]
    },
    {
     "name": "stdout",
     "output_type": "stream",
     "text": [
      "Stopping at: https://www.politifact.com/factchecks/list/?page=1&category=coronavirus&ruling=mostly-true\n"
     ]
    },
    {
     "name": "stderr",
     "output_type": "stream",
     "text": [
      " 50%|█████     | 3/6 [00:45<00:46, 15.49s/it]"
     ]
    },
    {
     "name": "stdout",
     "output_type": "stream",
     "text": [
      "Stopping at: https://www.politifact.com/factchecks/list/?page=2&category=coronavirus&ruling=half-true\n"
     ]
    },
    {
     "name": "stderr",
     "output_type": "stream",
     "text": [
      " 67%|██████▋   | 4/6 [01:07<00:36, 18.13s/it]"
     ]
    },
    {
     "name": "stdout",
     "output_type": "stream",
     "text": [
      "Stopping at: https://www.politifact.com/factchecks/list/?page=3&category=coronavirus&ruling=barely-true\n"
     ]
    },
    {
     "name": "stderr",
     "output_type": "stream",
     "text": [
      " 83%|████████▎ | 5/6 [01:22<00:17, 17.12s/it]"
     ]
    },
    {
     "name": "stdout",
     "output_type": "stream",
     "text": [
      "Stopping at: https://www.politifact.com/factchecks/list/?page=5&category=coronavirus&ruling=false\n"
     ]
    },
    {
     "name": "stderr",
     "output_type": "stream",
     "text": [
      "100%|██████████| 6/6 [01:36<00:00, 16.14s/it]\n"
     ]
    },
    {
     "name": "stdout",
     "output_type": "stream",
     "text": [
      "Stopping at: https://www.politifact.com/factchecks/list/?page=3&category=coronavirus&ruling=pants-fire\n",
      "Processing issue: https://www.politifact.com/crime/\n"
     ]
    },
    {
     "name": "stderr",
     "output_type": "stream",
     "text": [
      " 17%|█▋        | 1/6 [00:13<01:05, 13.10s/it]"
     ]
    },
    {
     "name": "stdout",
     "output_type": "stream",
     "text": [
      "Stopping at: https://www.politifact.com/factchecks/list/?page=1&category=crime&ruling=true\n"
     ]
    },
    {
     "name": "stderr",
     "output_type": "stream",
     "text": [
      " 33%|███▎      | 2/6 [00:27<00:56, 14.01s/it]"
     ]
    },
    {
     "name": "stdout",
     "output_type": "stream",
     "text": [
      "Stopping at: https://www.politifact.com/factchecks/list/?page=1&category=crime&ruling=mostly-true\n"
     ]
    },
    {
     "name": "stderr",
     "output_type": "stream",
     "text": [
      " 50%|█████     | 3/6 [00:39<00:38, 12.95s/it]"
     ]
    },
    {
     "name": "stdout",
     "output_type": "stream",
     "text": [
      "Stopping at: https://www.politifact.com/factchecks/list/?page=1&category=crime&ruling=half-true\n"
     ]
    },
    {
     "name": "stderr",
     "output_type": "stream",
     "text": [
      " 67%|██████▋   | 4/6 [00:48<00:22, 11.25s/it]"
     ]
    },
    {
     "name": "stdout",
     "output_type": "stream",
     "text": [
      "Stopping at: https://www.politifact.com/factchecks/list/?page=1&category=crime&ruling=barely-true\n"
     ]
    },
    {
     "name": "stderr",
     "output_type": "stream",
     "text": [
      " 83%|████████▎ | 5/6 [01:11<00:15, 15.71s/it]"
     ]
    },
    {
     "name": "stdout",
     "output_type": "stream",
     "text": [
      "Stopping at: https://www.politifact.com/factchecks/list/?page=4&category=crime&ruling=false\n"
     ]
    },
    {
     "name": "stderr",
     "output_type": "stream",
     "text": [
      "100%|██████████| 6/6 [01:16<00:00, 12.73s/it]\n"
     ]
    },
    {
     "name": "stdout",
     "output_type": "stream",
     "text": [
      "Stopping at: https://www.politifact.com/factchecks/list/?page=2&category=crime&ruling=pants-fire\n",
      "Processing issue: https://www.politifact.com/corporations/\n"
     ]
    },
    {
     "name": "stderr",
     "output_type": "stream",
     "text": [
      " 17%|█▋        | 1/6 [00:11<00:55, 11.16s/it]"
     ]
    },
    {
     "name": "stdout",
     "output_type": "stream",
     "text": [
      "Stopping at: https://www.politifact.com/factchecks/list/?page=1&category=corporations&ruling=true\n"
     ]
    },
    {
     "name": "stderr",
     "output_type": "stream",
     "text": [
      " 33%|███▎      | 2/6 [00:23<00:47, 11.90s/it]"
     ]
    },
    {
     "name": "stdout",
     "output_type": "stream",
     "text": [
      "Stopping at: https://www.politifact.com/factchecks/list/?page=1&category=corporations&ruling=mostly-true\n"
     ]
    },
    {
     "name": "stderr",
     "output_type": "stream",
     "text": [
      " 50%|█████     | 3/6 [00:36<00:37, 12.55s/it]"
     ]
    },
    {
     "name": "stdout",
     "output_type": "stream",
     "text": [
      "Stopping at: https://www.politifact.com/factchecks/list/?page=1&category=corporations&ruling=half-true\n"
     ]
    },
    {
     "name": "stderr",
     "output_type": "stream",
     "text": [
      " 67%|██████▋   | 4/6 [00:46<00:22, 11.41s/it]"
     ]
    },
    {
     "name": "stdout",
     "output_type": "stream",
     "text": [
      "Stopping at: https://www.politifact.com/factchecks/list/?page=1&category=corporations&ruling=barely-true\n"
     ]
    },
    {
     "name": "stderr",
     "output_type": "stream",
     "text": [
      " 83%|████████▎ | 5/6 [00:53<00:09,  9.82s/it]"
     ]
    },
    {
     "name": "stdout",
     "output_type": "stream",
     "text": [
      "Stopping at: https://www.politifact.com/factchecks/list/?page=1&category=corporations&ruling=false\n"
     ]
    },
    {
     "name": "stderr",
     "output_type": "stream",
     "text": [
      "100%|██████████| 6/6 [00:59<00:00,  9.99s/it]\n"
     ]
    },
    {
     "name": "stdout",
     "output_type": "stream",
     "text": [
      "Stopping at: https://www.politifact.com/factchecks/list/?page=1&category=corporations&ruling=pants-fire\n",
      "Processing issue: https://www.politifact.com/children/\n"
     ]
    },
    {
     "name": "stderr",
     "output_type": "stream",
     "text": [
      " 17%|█▋        | 1/6 [00:12<01:00, 12.03s/it]"
     ]
    },
    {
     "name": "stdout",
     "output_type": "stream",
     "text": [
      "Stopping at: https://www.politifact.com/factchecks/list/?page=1&category=children&ruling=true\n"
     ]
    },
    {
     "name": "stderr",
     "output_type": "stream",
     "text": [
      " 33%|███▎      | 2/6 [00:21<00:43, 10.78s/it]"
     ]
    },
    {
     "name": "stdout",
     "output_type": "stream",
     "text": [
      "Stopping at: https://www.politifact.com/factchecks/list/?page=1&category=children&ruling=mostly-true\n"
     ]
    },
    {
     "name": "stderr",
     "output_type": "stream",
     "text": [
      " 50%|█████     | 3/6 [00:31<00:30, 10.32s/it]"
     ]
    },
    {
     "name": "stdout",
     "output_type": "stream",
     "text": [
      "Stopping at: https://www.politifact.com/factchecks/list/?page=1&category=children&ruling=half-true\n"
     ]
    },
    {
     "name": "stderr",
     "output_type": "stream",
     "text": [
      " 67%|██████▋   | 4/6 [00:42<00:20, 10.42s/it]"
     ]
    },
    {
     "name": "stdout",
     "output_type": "stream",
     "text": [
      "Stopping at: https://www.politifact.com/factchecks/list/?page=1&category=children&ruling=barely-true\n"
     ]
    },
    {
     "name": "stderr",
     "output_type": "stream",
     "text": [
      " 83%|████████▎ | 5/6 [01:01<00:13, 13.45s/it]"
     ]
    },
    {
     "name": "stdout",
     "output_type": "stream",
     "text": [
      "Stopping at: https://www.politifact.com/factchecks/list/?page=3&category=children&ruling=false\n"
     ]
    },
    {
     "name": "stderr",
     "output_type": "stream",
     "text": [
      "100%|██████████| 6/6 [01:08<00:00, 11.35s/it]\n"
     ]
    },
    {
     "name": "stdout",
     "output_type": "stream",
     "text": [
      "Stopping at: https://www.politifact.com/factchecks/list/?page=1&category=children&ruling=pants-fire\n",
      "Processing issue: https://www.politifact.com/drugs/\n"
     ]
    },
    {
     "name": "stderr",
     "output_type": "stream",
     "text": [
      " 17%|█▋        | 1/6 [00:14<01:13, 14.73s/it]"
     ]
    },
    {
     "name": "stdout",
     "output_type": "stream",
     "text": [
      "Stopping at: https://www.politifact.com/factchecks/list/?page=1&category=drugs&ruling=true\n"
     ]
    },
    {
     "name": "stderr",
     "output_type": "stream",
     "text": [
      " 33%|███▎      | 2/6 [00:27<00:55, 13.82s/it]"
     ]
    },
    {
     "name": "stdout",
     "output_type": "stream",
     "text": [
      "Stopping at: https://www.politifact.com/factchecks/list/?page=1&category=drugs&ruling=mostly-true\n"
     ]
    },
    {
     "name": "stderr",
     "output_type": "stream",
     "text": [
      " 50%|█████     | 3/6 [00:42<00:42, 14.16s/it]"
     ]
    },
    {
     "name": "stdout",
     "output_type": "stream",
     "text": [
      "Stopping at: https://www.politifact.com/factchecks/list/?page=1&category=drugs&ruling=half-true\n"
     ]
    },
    {
     "name": "stderr",
     "output_type": "stream",
     "text": [
      " 67%|██████▋   | 4/6 [00:49<00:22, 11.44s/it]"
     ]
    },
    {
     "name": "stdout",
     "output_type": "stream",
     "text": [
      "Stopping at: https://www.politifact.com/factchecks/list/?page=1&category=drugs&ruling=barely-true\n"
     ]
    },
    {
     "name": "stderr",
     "output_type": "stream",
     "text": [
      " 83%|████████▎ | 5/6 [00:52<00:08,  8.27s/it]"
     ]
    },
    {
     "name": "stdout",
     "output_type": "stream",
     "text": [
      "Stopping at: https://www.politifact.com/factchecks/list/?page=1&category=drugs&ruling=false\n"
     ]
    },
    {
     "name": "stderr",
     "output_type": "stream",
     "text": [
      "100%|██████████| 6/6 [00:57<00:00,  9.54s/it]\n"
     ]
    },
    {
     "name": "stdout",
     "output_type": "stream",
     "text": [
      "Stopping at: https://www.politifact.com/factchecks/list/?page=1&category=drugs&ruling=pants-fire\n",
      "Processing issue: https://www.politifact.com/economy/\n"
     ]
    },
    {
     "name": "stderr",
     "output_type": "stream",
     "text": [
      "  0%|          | 0/6 [00:00<?, ?it/s]"
     ]
    },
    {
     "name": "stdout",
     "output_type": "stream",
     "text": [
      "Stopping at: https://www.politifact.com/factchecks/list/?page=1&category=economy&ruling=true\n"
     ]
    },
    {
     "name": "stderr",
     "output_type": "stream",
     "text": [
      " 33%|███▎      | 2/6 [00:01<00:02,  1.49it/s]"
     ]
    },
    {
     "name": "stdout",
     "output_type": "stream",
     "text": [
      "Stopping at: https://www.politifact.com/factchecks/list/?page=2&category=economy&ruling=mostly-true\n"
     ]
    },
    {
     "name": "stderr",
     "output_type": "stream",
     "text": [
      " 50%|█████     | 3/6 [00:02<00:02,  1.10it/s]"
     ]
    },
    {
     "name": "stdout",
     "output_type": "stream",
     "text": [
      "Stopping at: https://www.politifact.com/factchecks/list/?page=2&category=economy&ruling=half-true\n"
     ]
    },
    {
     "name": "stderr",
     "output_type": "stream",
     "text": [
      " 67%|██████▋   | 4/6 [00:03<00:02,  1.05s/it]"
     ]
    },
    {
     "name": "stdout",
     "output_type": "stream",
     "text": [
      "Stopping at: https://www.politifact.com/factchecks/list/?page=2&category=economy&ruling=barely-true\n"
     ]
    },
    {
     "name": "stderr",
     "output_type": "stream",
     "text": [
      "100%|██████████| 6/6 [00:06<00:00,  1.10s/it]\n"
     ]
    },
    {
     "name": "stdout",
     "output_type": "stream",
     "text": [
      "Stopping at: https://www.politifact.com/factchecks/list/?page=3&category=economy&ruling=false\n",
      "Stopping at: https://www.politifact.com/factchecks/list/?page=1&category=economy&ruling=pants-fire\n",
      "Processing issue: https://www.politifact.com/education/\n"
     ]
    },
    {
     "name": "stderr",
     "output_type": "stream",
     "text": [
      " 33%|███▎      | 2/6 [00:00<00:00,  7.00it/s]"
     ]
    },
    {
     "name": "stdout",
     "output_type": "stream",
     "text": [
      "Stopping at: https://www.politifact.com/factchecks/list/?page=1&category=education&ruling=true\n",
      "Stopping at: https://www.politifact.com/factchecks/list/?page=1&category=education&ruling=mostly-true\n"
     ]
    },
    {
     "name": "stderr",
     "output_type": "stream",
     "text": [
      " 50%|█████     | 3/6 [00:10<00:14,  4.71s/it]"
     ]
    },
    {
     "name": "stdout",
     "output_type": "stream",
     "text": [
      "Stopping at: https://www.politifact.com/factchecks/list/?page=1&category=education&ruling=half-true\n"
     ]
    },
    {
     "name": "stderr",
     "output_type": "stream",
     "text": [
      " 67%|██████▋   | 4/6 [00:35<00:25, 12.76s/it]"
     ]
    },
    {
     "name": "stdout",
     "output_type": "stream",
     "text": [
      "Stopping at: https://www.politifact.com/factchecks/list/?page=2&category=education&ruling=barely-true\n"
     ]
    },
    {
     "name": "stderr",
     "output_type": "stream",
     "text": [
      "100%|██████████| 6/6 [00:36<00:00,  6.16s/it]\n"
     ]
    },
    {
     "name": "stdout",
     "output_type": "stream",
     "text": [
      "Stopping at: https://www.politifact.com/factchecks/list/?page=2&category=education&ruling=false\n",
      "Stopping at: https://www.politifact.com/factchecks/list/?page=1&category=education&ruling=pants-fire\n",
      "Processing issue: https://www.politifact.com/energy/\n"
     ]
    },
    {
     "name": "stderr",
     "output_type": "stream",
     "text": [
      " 17%|█▋        | 1/6 [00:00<00:00,  5.90it/s]"
     ]
    },
    {
     "name": "stdout",
     "output_type": "stream",
     "text": [
      "Stopping at: https://www.politifact.com/factchecks/list/?page=1&category=energy&ruling=true\n"
     ]
    },
    {
     "name": "stderr",
     "output_type": "stream",
     "text": [
      " 50%|█████     | 3/6 [00:00<00:00,  6.08it/s]"
     ]
    },
    {
     "name": "stdout",
     "output_type": "stream",
     "text": [
      "Stopping at: https://www.politifact.com/factchecks/list/?page=1&category=energy&ruling=mostly-true\n",
      "Stopping at: https://www.politifact.com/factchecks/list/?page=1&category=energy&ruling=half-true\n"
     ]
    },
    {
     "name": "stderr",
     "output_type": "stream",
     "text": [
      " 83%|████████▎ | 5/6 [00:00<00:00,  6.70it/s]"
     ]
    },
    {
     "name": "stdout",
     "output_type": "stream",
     "text": [
      "Stopping at: https://www.politifact.com/factchecks/list/?page=1&category=energy&ruling=barely-true\n",
      "Stopping at: https://www.politifact.com/factchecks/list/?page=1&category=energy&ruling=false\n"
     ]
    },
    {
     "name": "stderr",
     "output_type": "stream",
     "text": [
      "100%|██████████| 6/6 [00:00<00:00,  6.57it/s]\n"
     ]
    },
    {
     "name": "stdout",
     "output_type": "stream",
     "text": [
      "Stopping at: https://www.politifact.com/factchecks/list/?page=1&category=energy&ruling=pants-fire\n",
      "Processing issue: https://www.politifact.com/environment/\n"
     ]
    },
    {
     "name": "stderr",
     "output_type": "stream",
     "text": [
      " 17%|█▋        | 1/6 [00:00<00:00,  6.17it/s]"
     ]
    },
    {
     "name": "stdout",
     "output_type": "stream",
     "text": [
      "Stopping at: https://www.politifact.com/factchecks/list/?page=1&category=environment&ruling=true\n"
     ]
    },
    {
     "name": "stderr",
     "output_type": "stream",
     "text": [
      " 33%|███▎      | 2/6 [00:00<00:00,  6.11it/s]"
     ]
    },
    {
     "name": "stdout",
     "output_type": "stream",
     "text": [
      "Stopping at: https://www.politifact.com/factchecks/list/?page=1&category=environment&ruling=mostly-true\n"
     ]
    },
    {
     "name": "stderr",
     "output_type": "stream",
     "text": [
      " 50%|█████     | 3/6 [00:00<00:00,  6.31it/s]"
     ]
    },
    {
     "name": "stdout",
     "output_type": "stream",
     "text": [
      "Stopping at: https://www.politifact.com/factchecks/list/?page=1&category=environment&ruling=half-true\n"
     ]
    },
    {
     "name": "stderr",
     "output_type": "stream",
     "text": [
      " 67%|██████▋   | 4/6 [00:00<00:00,  6.18it/s]"
     ]
    },
    {
     "name": "stdout",
     "output_type": "stream",
     "text": [
      "Stopping at: https://www.politifact.com/factchecks/list/?page=1&category=environment&ruling=barely-true\n"
     ]
    },
    {
     "name": "stderr",
     "output_type": "stream",
     "text": [
      " 83%|████████▎ | 5/6 [00:09<00:03,  3.30s/it]"
     ]
    },
    {
     "name": "stdout",
     "output_type": "stream",
     "text": [
      "Stopping at: https://www.politifact.com/factchecks/list/?page=3&category=environment&ruling=false\n"
     ]
    },
    {
     "name": "stderr",
     "output_type": "stream",
     "text": [
      "100%|██████████| 6/6 [00:09<00:00,  1.62s/it]\n"
     ]
    },
    {
     "name": "stdout",
     "output_type": "stream",
     "text": [
      "Stopping at: https://www.politifact.com/factchecks/list/?page=1&category=environment&ruling=pants-fire\n",
      "Processing issue: https://www.politifact.com/ethics/\n"
     ]
    },
    {
     "name": "stderr",
     "output_type": "stream",
     "text": [
      " 17%|█▋        | 1/6 [00:00<00:00,  6.97it/s]"
     ]
    },
    {
     "name": "stdout",
     "output_type": "stream",
     "text": [
      "Stopping at: https://www.politifact.com/factchecks/list/?page=1&category=ethics&ruling=true\n"
     ]
    },
    {
     "name": "stderr",
     "output_type": "stream",
     "text": [
      " 33%|███▎      | 2/6 [00:00<00:00,  5.37it/s]"
     ]
    },
    {
     "name": "stdout",
     "output_type": "stream",
     "text": [
      "Stopping at: https://www.politifact.com/factchecks/list/?page=1&category=ethics&ruling=mostly-true\n",
      "Stopping at: https://www.politifact.com/factchecks/list/?page=1&category=ethics&ruling=half-true\n"
     ]
    },
    {
     "name": "stderr",
     "output_type": "stream",
     "text": [
      " 83%|████████▎ | 5/6 [00:00<00:00,  5.30it/s]"
     ]
    },
    {
     "name": "stdout",
     "output_type": "stream",
     "text": [
      "Stopping at: https://www.politifact.com/factchecks/list/?page=1&category=ethics&ruling=barely-true\n",
      "Stopping at: https://www.politifact.com/factchecks/list/?page=1&category=ethics&ruling=false\n"
     ]
    },
    {
     "name": "stderr",
     "output_type": "stream",
     "text": [
      "100%|██████████| 6/6 [00:01<00:00,  5.34it/s]\n"
     ]
    },
    {
     "name": "stdout",
     "output_type": "stream",
     "text": [
      "Stopping at: https://www.politifact.com/factchecks/list/?page=1&category=ethics&ruling=pants-fire\n",
      "Processing issue: https://www.politifact.com/food/\n"
     ]
    },
    {
     "name": "stderr",
     "output_type": "stream",
     "text": [
      " 17%|█▋        | 1/6 [00:00<00:01,  3.96it/s]"
     ]
    },
    {
     "name": "stdout",
     "output_type": "stream",
     "text": [
      "Stopping at: https://www.politifact.com/factchecks/list/?page=1&category=food&ruling=true\n"
     ]
    },
    {
     "name": "stderr",
     "output_type": "stream",
     "text": [
      " 50%|█████     | 3/6 [00:00<00:00,  5.63it/s]"
     ]
    },
    {
     "name": "stdout",
     "output_type": "stream",
     "text": [
      "Stopping at: https://www.politifact.com/factchecks/list/?page=1&category=food&ruling=mostly-true\n",
      "Stopping at: https://www.politifact.com/factchecks/list/?page=1&category=food&ruling=half-true\n"
     ]
    },
    {
     "name": "stderr",
     "output_type": "stream",
     "text": [
      " 67%|██████▋   | 4/6 [00:00<00:00,  5.15it/s]"
     ]
    },
    {
     "name": "stdout",
     "output_type": "stream",
     "text": [
      "Stopping at: https://www.politifact.com/factchecks/list/?page=1&category=food&ruling=barely-true\n"
     ]
    },
    {
     "name": "stderr",
     "output_type": "stream",
     "text": [
      "100%|██████████| 6/6 [00:02<00:00,  2.55it/s]\n"
     ]
    },
    {
     "name": "stdout",
     "output_type": "stream",
     "text": [
      "Stopping at: https://www.politifact.com/factchecks/list/?page=2&category=food&ruling=false\n",
      "Stopping at: https://www.politifact.com/factchecks/list/?page=1&category=food&ruling=pants-fire\n",
      "Processing issue: https://www.politifact.com/guns/\n"
     ]
    },
    {
     "name": "stderr",
     "output_type": "stream",
     "text": [
      " 17%|█▋        | 1/6 [00:00<00:00,  6.81it/s]"
     ]
    },
    {
     "name": "stdout",
     "output_type": "stream",
     "text": [
      "Stopping at: https://www.politifact.com/factchecks/list/?page=1&category=guns&ruling=true\n"
     ]
    },
    {
     "name": "stderr",
     "output_type": "stream",
     "text": [
      " 50%|█████     | 3/6 [00:01<00:01,  2.92it/s]"
     ]
    },
    {
     "name": "stdout",
     "output_type": "stream",
     "text": [
      "Stopping at: https://www.politifact.com/factchecks/list/?page=1&category=guns&ruling=mostly-true\n",
      "Stopping at: https://www.politifact.com/factchecks/list/?page=1&category=guns&ruling=half-true\n"
     ]
    },
    {
     "name": "stderr",
     "output_type": "stream",
     "text": [
      " 67%|██████▋   | 4/6 [00:01<00:00,  3.18it/s]"
     ]
    },
    {
     "name": "stdout",
     "output_type": "stream",
     "text": [
      "Stopping at: https://www.politifact.com/factchecks/list/?page=1&category=guns&ruling=barely-true\n"
     ]
    },
    {
     "name": "stderr",
     "output_type": "stream",
     "text": [
      "100%|██████████| 6/6 [00:09<00:00,  1.61s/it]\n"
     ]
    },
    {
     "name": "stdout",
     "output_type": "stream",
     "text": [
      "Stopping at: https://www.politifact.com/factchecks/list/?page=3&category=guns&ruling=false\n",
      "Stopping at: https://www.politifact.com/factchecks/list/?page=1&category=guns&ruling=pants-fire\n",
      "Processing issue: https://www.politifact.com/health-care/\n"
     ]
    },
    {
     "name": "stderr",
     "output_type": "stream",
     "text": [
      " 17%|█▋        | 1/6 [00:00<00:00,  5.64it/s]"
     ]
    },
    {
     "name": "stdout",
     "output_type": "stream",
     "text": [
      "Stopping at: https://www.politifact.com/factchecks/list/?page=1&category=health-care&ruling=true\n"
     ]
    },
    {
     "name": "stderr",
     "output_type": "stream",
     "text": [
      " 33%|███▎      | 2/6 [00:00<00:01,  3.63it/s]"
     ]
    },
    {
     "name": "stdout",
     "output_type": "stream",
     "text": [
      "Stopping at: https://www.politifact.com/factchecks/list/?page=1&category=health-care&ruling=mostly-true\n"
     ]
    },
    {
     "name": "stderr",
     "output_type": "stream",
     "text": [
      " 50%|█████     | 3/6 [00:00<00:00,  4.06it/s]"
     ]
    },
    {
     "name": "stdout",
     "output_type": "stream",
     "text": [
      "Stopping at: https://www.politifact.com/factchecks/list/?page=1&category=health-care&ruling=half-true\n"
     ]
    },
    {
     "name": "stderr",
     "output_type": "stream",
     "text": [
      " 67%|██████▋   | 4/6 [00:11<00:08,  4.41s/it]"
     ]
    },
    {
     "name": "stdout",
     "output_type": "stream",
     "text": [
      "Stopping at: https://www.politifact.com/factchecks/list/?page=2&category=health-care&ruling=barely-true\n"
     ]
    },
    {
     "name": "stderr",
     "output_type": "stream",
     "text": [
      "100%|██████████| 6/6 [00:15<00:00,  2.53s/it]\n"
     ]
    },
    {
     "name": "stdout",
     "output_type": "stream",
     "text": [
      "Stopping at: https://www.politifact.com/factchecks/list/?page=3&category=health-care&ruling=false\n",
      "Stopping at: https://www.politifact.com/factchecks/list/?page=1&category=health-care&ruling=pants-fire\n",
      "Processing issue: https://www.politifact.com/housing/\n"
     ]
    },
    {
     "name": "stderr",
     "output_type": "stream",
     "text": [
      " 33%|███▎      | 2/6 [00:00<00:00,  4.44it/s]"
     ]
    },
    {
     "name": "stdout",
     "output_type": "stream",
     "text": [
      "Stopping at: https://www.politifact.com/factchecks/list/?page=1&category=housing&ruling=true\n",
      "Stopping at: https://www.politifact.com/factchecks/list/?page=1&category=housing&ruling=mostly-true\n"
     ]
    },
    {
     "name": "stderr",
     "output_type": "stream",
     "text": [
      " 50%|█████     | 3/6 [00:00<00:00,  4.88it/s]"
     ]
    },
    {
     "name": "stdout",
     "output_type": "stream",
     "text": [
      "Stopping at: https://www.politifact.com/factchecks/list/?page=1&category=housing&ruling=half-true\n"
     ]
    },
    {
     "name": "stderr",
     "output_type": "stream",
     "text": [
      " 67%|██████▋   | 4/6 [00:00<00:00,  4.66it/s]"
     ]
    },
    {
     "name": "stdout",
     "output_type": "stream",
     "text": [
      "Stopping at: https://www.politifact.com/factchecks/list/?page=1&category=housing&ruling=barely-true\n"
     ]
    },
    {
     "name": "stderr",
     "output_type": "stream",
     "text": [
      "100%|██████████| 6/6 [00:01<00:00,  4.35it/s]\n"
     ]
    },
    {
     "name": "stdout",
     "output_type": "stream",
     "text": [
      "Stopping at: https://www.politifact.com/factchecks/list/?page=1&category=housing&ruling=false\n",
      "Stopping at: https://www.politifact.com/factchecks/list/?page=1&category=housing&ruling=pants-fire\n",
      "Processing issue: https://www.politifact.com/human-rights/\n"
     ]
    },
    {
     "name": "stderr",
     "output_type": "stream",
     "text": [
      " 33%|███▎      | 2/6 [00:00<00:00,  4.63it/s]"
     ]
    },
    {
     "name": "stdout",
     "output_type": "stream",
     "text": [
      "Stopping at: https://www.politifact.com/factchecks/list/?page=1&category=human-rights&ruling=true\n",
      "Stopping at: https://www.politifact.com/factchecks/list/?page=1&category=human-rights&ruling=mostly-true\n"
     ]
    },
    {
     "name": "stderr",
     "output_type": "stream",
     "text": [
      " 67%|██████▋   | 4/6 [00:00<00:00,  4.34it/s]"
     ]
    },
    {
     "name": "stdout",
     "output_type": "stream",
     "text": [
      "Stopping at: https://www.politifact.com/factchecks/list/?page=1&category=human-rights&ruling=half-true\n",
      "Stopping at: https://www.politifact.com/factchecks/list/?page=1&category=human-rights&ruling=barely-true\n"
     ]
    },
    {
     "name": "stderr",
     "output_type": "stream",
     "text": [
      "100%|██████████| 6/6 [00:01<00:00,  4.59it/s]\n"
     ]
    },
    {
     "name": "stdout",
     "output_type": "stream",
     "text": [
      "Stopping at: https://www.politifact.com/factchecks/list/?page=1&category=human-rights&ruling=false\n",
      "Stopping at: https://www.politifact.com/factchecks/list/?page=1&category=human-rights&ruling=pants-fire\n",
      "Processing issue: https://www.politifact.com/history/\n"
     ]
    },
    {
     "name": "stderr",
     "output_type": "stream",
     "text": [
      " 33%|███▎      | 2/6 [00:00<00:00,  8.34it/s]"
     ]
    },
    {
     "name": "stdout",
     "output_type": "stream",
     "text": [
      "Stopping at: https://www.politifact.com/factchecks/list/?page=1&category=history&ruling=true\n",
      "Stopping at: https://www.politifact.com/factchecks/list/?page=1&category=history&ruling=mostly-true\n"
     ]
    },
    {
     "name": "stderr",
     "output_type": "stream",
     "text": [
      " 50%|█████     | 3/6 [00:00<00:00,  5.42it/s]"
     ]
    },
    {
     "name": "stdout",
     "output_type": "stream",
     "text": [
      "Stopping at: https://www.politifact.com/factchecks/list/?page=1&category=history&ruling=half-true\n"
     ]
    },
    {
     "name": "stderr",
     "output_type": "stream",
     "text": [
      " 83%|████████▎ | 5/6 [00:00<00:00,  4.80it/s]"
     ]
    },
    {
     "name": "stdout",
     "output_type": "stream",
     "text": [
      "Stopping at: https://www.politifact.com/factchecks/list/?page=1&category=history&ruling=barely-true\n",
      "Stopping at: https://www.politifact.com/factchecks/list/?page=1&category=history&ruling=false\n"
     ]
    },
    {
     "name": "stderr",
     "output_type": "stream",
     "text": [
      "100%|██████████| 6/6 [00:01<00:00,  5.28it/s]\n"
     ]
    },
    {
     "name": "stdout",
     "output_type": "stream",
     "text": [
      "Stopping at: https://www.politifact.com/factchecks/list/?page=1&category=history&ruling=pants-fire\n",
      "Processing issue: https://www.politifact.com/military/\n"
     ]
    },
    {
     "name": "stderr",
     "output_type": "stream",
     "text": [
      " 33%|███▎      | 2/6 [00:00<00:01,  2.67it/s]"
     ]
    },
    {
     "name": "stdout",
     "output_type": "stream",
     "text": [
      "Stopping at: https://www.politifact.com/factchecks/list/?page=1&category=military&ruling=true\n",
      "Stopping at: https://www.politifact.com/factchecks/list/?page=1&category=military&ruling=mostly-true\n"
     ]
    },
    {
     "name": "stderr",
     "output_type": "stream",
     "text": [
      " 50%|█████     | 3/6 [00:01<00:00,  3.07it/s]"
     ]
    },
    {
     "name": "stdout",
     "output_type": "stream",
     "text": [
      "Stopping at: https://www.politifact.com/factchecks/list/?page=1&category=military&ruling=half-true\n",
      "Stopping at: https://www.politifact.com/factchecks/list/?page=1&category=military&ruling=barely-true\n"
     ]
    },
    {
     "name": "stderr",
     "output_type": "stream",
     "text": [
      "100%|██████████| 6/6 [00:08<00:00,  1.35s/it]\n"
     ]
    },
    {
     "name": "stdout",
     "output_type": "stream",
     "text": [
      "Stopping at: https://www.politifact.com/factchecks/list/?page=3&category=military&ruling=false\n",
      "Stopping at: https://www.politifact.com/factchecks/list/?page=1&category=military&ruling=pants-fire\n",
      "Processing issue: https://www.politifact.com/natural-disasters/\n"
     ]
    },
    {
     "name": "stderr",
     "output_type": "stream",
     "text": [
      " 33%|███▎      | 2/6 [00:00<00:00,  6.19it/s]"
     ]
    },
    {
     "name": "stdout",
     "output_type": "stream",
     "text": [
      "Stopping at: https://www.politifact.com/factchecks/list/?page=1&category=natural-disasters&ruling=true\n",
      "Stopping at: https://www.politifact.com/factchecks/list/?page=1&category=natural-disasters&ruling=mostly-true\n",
      "Stopping at: https://www.politifact.com/factchecks/list/?page=1&category=natural-disasters&ruling=half-true\n"
     ]
    },
    {
     "name": "stderr",
     "output_type": "stream",
     "text": [
      " 67%|██████▋   | 4/6 [00:03<00:02,  1.02s/it]"
     ]
    },
    {
     "name": "stdout",
     "output_type": "stream",
     "text": [
      "Stopping at: https://www.politifact.com/factchecks/list/?page=1&category=natural-disasters&ruling=barely-true\n"
     ]
    },
    {
     "name": "stderr",
     "output_type": "stream",
     "text": [
      " 83%|████████▎ | 5/6 [00:04<00:01,  1.19s/it]"
     ]
    },
    {
     "name": "stdout",
     "output_type": "stream",
     "text": [
      "Stopping at: https://www.politifact.com/factchecks/list/?page=2&category=natural-disasters&ruling=false\n"
     ]
    },
    {
     "name": "stderr",
     "output_type": "stream",
     "text": [
      "100%|██████████| 6/6 [00:05<00:00,  1.15it/s]\n"
     ]
    },
    {
     "name": "stdout",
     "output_type": "stream",
     "text": [
      "Stopping at: https://www.politifact.com/factchecks/list/?page=1&category=natural-disasters&ruling=pants-fire\n",
      "Processing issue: https://www.politifact.com/welfare/\n"
     ]
    },
    {
     "name": "stderr",
     "output_type": "stream",
     "text": [
      " 17%|█▋        | 1/6 [00:00<00:03,  1.29it/s]"
     ]
    },
    {
     "name": "stdout",
     "output_type": "stream",
     "text": [
      "Stopping at: https://www.politifact.com/factchecks/list/?page=1&category=welfare&ruling=true\n"
     ]
    },
    {
     "name": "stderr",
     "output_type": "stream",
     "text": [
      " 33%|███▎      | 2/6 [00:01<00:01,  2.18it/s]"
     ]
    },
    {
     "name": "stdout",
     "output_type": "stream",
     "text": [
      "Stopping at: https://www.politifact.com/factchecks/list/?page=1&category=welfare&ruling=mostly-true\n"
     ]
    },
    {
     "name": "stderr",
     "output_type": "stream",
     "text": [
      " 67%|██████▋   | 4/6 [00:02<00:00,  2.24it/s]"
     ]
    },
    {
     "name": "stdout",
     "output_type": "stream",
     "text": [
      "Stopping at: https://www.politifact.com/factchecks/list/?page=1&category=welfare&ruling=half-true\n",
      "Stopping at: https://www.politifact.com/factchecks/list/?page=1&category=welfare&ruling=barely-true\n"
     ]
    },
    {
     "name": "stderr",
     "output_type": "stream",
     "text": [
      "100%|██████████| 6/6 [00:02<00:00,  2.54it/s]\n"
     ]
    },
    {
     "name": "stdout",
     "output_type": "stream",
     "text": [
      "Stopping at: https://www.politifact.com/factchecks/list/?page=1&category=welfare&ruling=false\n",
      "Stopping at: https://www.politifact.com/factchecks/list/?page=1&category=welfare&ruling=pants-fire\n",
      "Processing issue: https://www.politifact.com/weather/\n"
     ]
    },
    {
     "name": "stderr",
     "output_type": "stream",
     "text": [
      " 17%|█▋        | 1/6 [00:00<00:01,  4.29it/s]"
     ]
    },
    {
     "name": "stdout",
     "output_type": "stream",
     "text": [
      "Stopping at: https://www.politifact.com/factchecks/list/?page=1&category=weather&ruling=true\n"
     ]
    },
    {
     "name": "stderr",
     "output_type": "stream",
     "text": [
      " 50%|█████     | 3/6 [00:00<00:00,  4.12it/s]"
     ]
    },
    {
     "name": "stdout",
     "output_type": "stream",
     "text": [
      "Stopping at: https://www.politifact.com/factchecks/list/?page=1&category=weather&ruling=mostly-true\n",
      "Stopping at: https://www.politifact.com/factchecks/list/?page=1&category=weather&ruling=half-true\n"
     ]
    },
    {
     "name": "stderr",
     "output_type": "stream",
     "text": [
      " 67%|██████▋   | 4/6 [00:00<00:00,  4.78it/s]"
     ]
    },
    {
     "name": "stdout",
     "output_type": "stream",
     "text": [
      "Stopping at: https://www.politifact.com/factchecks/list/?page=1&category=weather&ruling=barely-true\n"
     ]
    },
    {
     "name": "stderr",
     "output_type": "stream",
     "text": [
      "100%|██████████| 6/6 [00:02<00:00,  2.17it/s]\n"
     ]
    },
    {
     "name": "stdout",
     "output_type": "stream",
     "text": [
      "Stopping at: https://www.politifact.com/factchecks/list/?page=2&category=weather&ruling=false\n",
      "Stopping at: https://www.politifact.com/factchecks/list/?page=1&category=weather&ruling=pants-fire\n",
      "Processing issue: https://www.politifact.com/taxes/\n"
     ]
    },
    {
     "name": "stderr",
     "output_type": "stream",
     "text": [
      " 33%|███▎      | 2/6 [00:00<00:00,  5.78it/s]"
     ]
    },
    {
     "name": "stdout",
     "output_type": "stream",
     "text": [
      "Stopping at: https://www.politifact.com/factchecks/list/?page=1&category=taxes&ruling=true\n",
      "Stopping at: https://www.politifact.com/factchecks/list/?page=1&category=taxes&ruling=mostly-true\n"
     ]
    },
    {
     "name": "stderr",
     "output_type": "stream",
     "text": [
      " 50%|█████     | 3/6 [00:00<00:00,  5.23it/s]"
     ]
    },
    {
     "name": "stdout",
     "output_type": "stream",
     "text": [
      "Stopping at: https://www.politifact.com/factchecks/list/?page=1&category=taxes&ruling=half-true\n"
     ]
    },
    {
     "name": "stderr",
     "output_type": "stream",
     "text": [
      " 67%|██████▋   | 4/6 [00:13<00:10,  5.15s/it]"
     ]
    },
    {
     "name": "stdout",
     "output_type": "stream",
     "text": [
      "Stopping at: https://www.politifact.com/factchecks/list/?page=2&category=taxes&ruling=barely-true\n"
     ]
    },
    {
     "name": "stderr",
     "output_type": "stream",
     "text": [
      "100%|██████████| 6/6 [00:18<00:00,  3.12s/it]"
     ]
    },
    {
     "name": "stdout",
     "output_type": "stream",
     "text": [
      "Stopping at: https://www.politifact.com/factchecks/list/?page=2&category=taxes&ruling=false\n",
      "Stopping at: https://www.politifact.com/factchecks/list/?page=1&category=taxes&ruling=pants-fire\n"
     ]
    },
    {
     "name": "stderr",
     "output_type": "stream",
     "text": [
      "\n"
     ]
    },
    {
     "name": "stdout",
     "output_type": "stream",
     "text": [
      "Processing issue: https://www.politifact.com/technology/\n"
     ]
    },
    {
     "name": "stderr",
     "output_type": "stream",
     "text": [
      " 17%|█▋        | 1/6 [00:00<00:00,  5.11it/s]"
     ]
    },
    {
     "name": "stdout",
     "output_type": "stream",
     "text": [
      "Stopping at: https://www.politifact.com/factchecks/list/?page=1&category=technology&ruling=true\n"
     ]
    },
    {
     "name": "stderr",
     "output_type": "stream",
     "text": [
      " 33%|███▎      | 2/6 [00:00<00:00,  5.32it/s]"
     ]
    },
    {
     "name": "stdout",
     "output_type": "stream",
     "text": [
      "Stopping at: https://www.politifact.com/factchecks/list/?page=1&category=technology&ruling=mostly-true\n"
     ]
    },
    {
     "name": "stderr",
     "output_type": "stream",
     "text": [
      " 67%|██████▋   | 4/6 [00:01<00:00,  3.75it/s]"
     ]
    },
    {
     "name": "stdout",
     "output_type": "stream",
     "text": [
      "Stopping at: https://www.politifact.com/factchecks/list/?page=1&category=technology&ruling=half-true\n",
      "Stopping at: https://www.politifact.com/factchecks/list/?page=1&category=technology&ruling=barely-true\n"
     ]
    },
    {
     "name": "stderr",
     "output_type": "stream",
     "text": [
      "100%|██████████| 6/6 [00:08<00:00,  1.49s/it]\n"
     ]
    },
    {
     "name": "stdout",
     "output_type": "stream",
     "text": [
      "Stopping at: https://www.politifact.com/factchecks/list/?page=3&category=technology&ruling=false\n",
      "Stopping at: https://www.politifact.com/factchecks/list/?page=1&category=technology&ruling=pants-fire\n",
      "Processing issue: https://www.politifact.com/sports/\n"
     ]
    },
    {
     "name": "stderr",
     "output_type": "stream",
     "text": [
      " 33%|███▎      | 2/6 [00:00<00:00,  8.09it/s]"
     ]
    },
    {
     "name": "stdout",
     "output_type": "stream",
     "text": [
      "Stopping at: https://www.politifact.com/factchecks/list/?page=1&category=sports&ruling=true\n",
      "Stopping at: https://www.politifact.com/factchecks/list/?page=1&category=sports&ruling=mostly-true\n"
     ]
    },
    {
     "name": "stderr",
     "output_type": "stream",
     "text": [
      " 67%|██████▋   | 4/6 [00:00<00:00,  6.34it/s]"
     ]
    },
    {
     "name": "stdout",
     "output_type": "stream",
     "text": [
      "Stopping at: https://www.politifact.com/factchecks/list/?page=1&category=sports&ruling=half-true\n",
      "Stopping at: https://www.politifact.com/factchecks/list/?page=1&category=sports&ruling=barely-true\n"
     ]
    },
    {
     "name": "stderr",
     "output_type": "stream",
     "text": [
      " 83%|████████▎ | 5/6 [00:10<00:03,  3.64s/it]"
     ]
    },
    {
     "name": "stdout",
     "output_type": "stream",
     "text": [
      "Stopping at: https://www.politifact.com/factchecks/list/?page=4&category=sports&ruling=false\n"
     ]
    },
    {
     "name": "stderr",
     "output_type": "stream",
     "text": [
      "100%|██████████| 6/6 [00:10<00:00,  1.79s/it]\n"
     ]
    },
    {
     "name": "stdout",
     "output_type": "stream",
     "text": [
      "Stopping at: https://www.politifact.com/factchecks/list/?page=1&category=sports&ruling=pants-fire\n",
      "Processing issue: https://www.politifact.com/science/\n"
     ]
    },
    {
     "name": "stderr",
     "output_type": "stream",
     "text": [
      " 33%|███▎      | 2/6 [00:00<00:00,  5.58it/s]"
     ]
    },
    {
     "name": "stdout",
     "output_type": "stream",
     "text": [
      "Stopping at: https://www.politifact.com/factchecks/list/?page=1&category=science&ruling=true\n",
      "Stopping at: https://www.politifact.com/factchecks/list/?page=1&category=science&ruling=mostly-true\n"
     ]
    },
    {
     "name": "stderr",
     "output_type": "stream",
     "text": [
      " 67%|██████▋   | 4/6 [00:00<00:00,  6.17it/s]"
     ]
    },
    {
     "name": "stdout",
     "output_type": "stream",
     "text": [
      "Stopping at: https://www.politifact.com/factchecks/list/?page=1&category=science&ruling=half-true\n",
      "Stopping at: https://www.politifact.com/factchecks/list/?page=1&category=science&ruling=barely-true\n"
     ]
    },
    {
     "name": "stderr",
     "output_type": "stream",
     "text": [
      "100%|██████████| 6/6 [00:11<00:00,  1.94s/it]\n"
     ]
    },
    {
     "name": "stdout",
     "output_type": "stream",
     "text": [
      "Stopping at: https://www.politifact.com/factchecks/list/?page=3&category=science&ruling=false\n",
      "Stopping at: https://www.politifact.com/factchecks/list/?page=1&category=science&ruling=pants-fire\n",
      "Processing issue: https://www.politifact.com/religion/\n"
     ]
    },
    {
     "name": "stderr",
     "output_type": "stream",
     "text": [
      " 33%|███▎      | 2/6 [00:00<00:00,  7.15it/s]"
     ]
    },
    {
     "name": "stdout",
     "output_type": "stream",
     "text": [
      "Stopping at: https://www.politifact.com/factchecks/list/?page=1&category=religion&ruling=true\n",
      "Stopping at: https://www.politifact.com/factchecks/list/?page=1&category=religion&ruling=mostly-true\n"
     ]
    },
    {
     "name": "stderr",
     "output_type": "stream",
     "text": [
      " 67%|██████▋   | 4/6 [00:00<00:00,  6.69it/s]"
     ]
    },
    {
     "name": "stdout",
     "output_type": "stream",
     "text": [
      "Stopping at: https://www.politifact.com/factchecks/list/?page=1&category=religion&ruling=half-true\n",
      "Stopping at: https://www.politifact.com/factchecks/list/?page=1&category=religion&ruling=barely-true\n"
     ]
    },
    {
     "name": "stderr",
     "output_type": "stream",
     "text": [
      "100%|██████████| 6/6 [00:02<00:00,  2.35it/s]\n"
     ]
    },
    {
     "name": "stdout",
     "output_type": "stream",
     "text": [
      "Stopping at: https://www.politifact.com/factchecks/list/?page=2&category=religion&ruling=false\n",
      "Stopping at: https://www.politifact.com/factchecks/list/?page=1&category=religion&ruling=pants-fire\n",
      "Processing issue: https://www.politifact.com/lgbtq/\n"
     ]
    },
    {
     "name": "stderr",
     "output_type": "stream",
     "text": [
      " 17%|█▋        | 1/6 [00:00<00:01,  4.82it/s]"
     ]
    },
    {
     "name": "stdout",
     "output_type": "stream",
     "text": [
      "Stopping at: https://www.politifact.com/factchecks/list/?page=1&category=lgbtq&ruling=true\n",
      "Stopping at: https://www.politifact.com/factchecks/list/?page=1&category=lgbtq&ruling=mostly-true\n"
     ]
    },
    {
     "name": "stderr",
     "output_type": "stream",
     "text": [
      " 67%|██████▋   | 4/6 [00:00<00:00,  5.57it/s]"
     ]
    },
    {
     "name": "stdout",
     "output_type": "stream",
     "text": [
      "Stopping at: https://www.politifact.com/factchecks/list/?page=1&category=lgbtq&ruling=half-true\n",
      "Stopping at: https://www.politifact.com/factchecks/list/?page=1&category=lgbtq&ruling=barely-true\n"
     ]
    },
    {
     "name": "stderr",
     "output_type": "stream",
     "text": [
      "100%|██████████| 6/6 [00:03<00:00,  1.63it/s]"
     ]
    },
    {
     "name": "stdout",
     "output_type": "stream",
     "text": [
      "Stopping at: https://www.politifact.com/factchecks/list/?page=3&category=lgbtq&ruling=false\n",
      "Stopping at: https://www.politifact.com/factchecks/list/?page=1&category=lgbtq&ruling=pants-fire\n"
     ]
    },
    {
     "name": "stderr",
     "output_type": "stream",
     "text": [
      "\n"
     ]
    }
   ],
   "source": [
    "with open('data/issue_scorecards.json', 'r') as f:\n",
    "    issue_scorecards = json.load(f)\n",
    "\n",
    "idx = 0\n",
    "claims_by_issue = {}\n",
    "for issue_url, scorecard_data in issue_scorecards.items():\n",
    "    print(f\"Processing issue: {issue_url}\")\n",
    "    issue = issue_url.split(\"/\")[-2]\n",
    "    claims_by_category = {}\n",
    "    for category, stats in tqdm(scorecard_data.items(), total=len(scorecard_data)):\n",
    "        page_idx = 1\n",
    "        cat = ruling_map[category]\n",
    "        all_claims = []\n",
    "        while True:\n",
    "            url = url_template.format(page=page_idx, category=issue, ruling=cat)\n",
    "            try:\n",
    "                extracted_claims, continue_flag = extract_claim_data(url, page_idx, dt_threshold_date)\n",
    "                all_claims.extend(extracted_claims)\n",
    "            except Exception as e:\n",
    "                print(f\"Error extracting claims from {url}: {e}\")\n",
    "                continue_flag = False\n",
    "\n",
    "            if continue_flag:\n",
    "                page_idx += 1\n",
    "                time.sleep(1)\n",
    "            else:\n",
    "                print(\"Stopping at:\", url)\n",
    "                break\n",
    "        claims_by_category[category] = all_claims\n",
    "    claims_by_issue[issue] = claims_by_category\n",
    "\n",
    "    # Save progress after each issue\n",
    "    with open(f'data/claims_by_issue.json', 'w') as f:\n",
    "        json.dump(claims_by_issue, f, indent=2)\n"
   ]
  },
  {
   "cell_type": "code",
   "execution_count": 11,
   "metadata": {},
   "outputs": [
    {
     "name": "stdout",
     "output_type": "stream",
     "text": [
      "Issue: abortion\n",
      "Category: True, Number of claims: 6\n",
      "Category: Mostly True, Number of claims: 17\n",
      "Category: Half True, Number of claims: 23\n",
      "Category: Mostly False, Number of claims: 36\n",
      "Category: False, Number of claims: 58\n",
      "Category: Pants on Fire, Number of claims: 5\n",
      "Total claims: 145\n",
      "\n",
      "\n",
      "Issue: animals\n",
      "Category: True, Number of claims: 2\n",
      "Category: Mostly True, Number of claims: 1\n",
      "Category: Half True, Number of claims: 4\n",
      "Category: Mostly False, Number of claims: 2\n",
      "Category: False, Number of claims: 23\n",
      "Category: Pants on Fire, Number of claims: 8\n",
      "Total claims: 40\n",
      "\n",
      "\n",
      "Issue: border-security\n",
      "Category: True, Number of claims: 4\n",
      "Category: Mostly True, Number of claims: 6\n",
      "Category: Half True, Number of claims: 10\n",
      "Category: Mostly False, Number of claims: 21\n",
      "Category: False, Number of claims: 40\n",
      "Category: Pants on Fire, Number of claims: 7\n",
      "Total claims: 88\n",
      "\n",
      "\n",
      "Issue: climate-change\n",
      "Category: True, Number of claims: 5\n",
      "Category: Mostly True, Number of claims: 7\n",
      "Category: Half True, Number of claims: 15\n",
      "Category: Mostly False, Number of claims: 21\n",
      "Category: False, Number of claims: 85\n",
      "Category: Pants on Fire, Number of claims: 17\n",
      "Total claims: 150\n",
      "\n",
      "\n",
      "Issue: coronavirus\n",
      "Category: True, Number of claims: 14\n",
      "Category: Mostly True, Number of claims: 25\n",
      "Category: Half True, Number of claims: 50\n",
      "Category: Mostly False, Number of claims: 89\n",
      "Category: False, Number of claims: 149\n",
      "Category: Pants on Fire, Number of claims: 89\n",
      "Total claims: 416\n",
      "\n",
      "\n",
      "Issue: crime\n",
      "Category: True, Number of claims: 12\n",
      "Category: Mostly True, Number of claims: 13\n",
      "Category: Half True, Number of claims: 21\n",
      "Category: Mostly False, Number of claims: 29\n",
      "Category: False, Number of claims: 107\n",
      "Category: Pants on Fire, Number of claims: 31\n",
      "Total claims: 213\n",
      "\n",
      "\n",
      "Issue: corporations\n",
      "Category: True, Number of claims: 3\n",
      "Category: Mostly True, Number of claims: 5\n",
      "Category: Half True, Number of claims: 8\n",
      "Category: Mostly False, Number of claims: 5\n",
      "Category: False, Number of claims: 10\n",
      "Category: Pants on Fire, Number of claims: 3\n",
      "Total claims: 34\n",
      "\n",
      "\n",
      "Issue: children\n",
      "Category: True, Number of claims: 7\n",
      "Category: Mostly True, Number of claims: 12\n",
      "Category: Half True, Number of claims: 15\n",
      "Category: Mostly False, Number of claims: 19\n",
      "Category: False, Number of claims: 66\n",
      "Category: Pants on Fire, Number of claims: 16\n",
      "Total claims: 135\n",
      "\n",
      "\n",
      "Issue: drugs\n",
      "Category: True, Number of claims: 13\n",
      "Category: Mostly True, Number of claims: 9\n",
      "Category: Half True, Number of claims: 8\n",
      "Category: Mostly False, Number of claims: 9\n",
      "Category: False, Number of claims: 27\n",
      "Category: Pants on Fire, Number of claims: 7\n",
      "Total claims: 73\n",
      "\n",
      "\n",
      "Issue: economy\n",
      "Category: True, Number of claims: 11\n",
      "Category: Mostly True, Number of claims: 47\n",
      "Category: Half True, Number of claims: 56\n",
      "Category: Mostly False, Number of claims: 47\n",
      "Category: False, Number of claims: 63\n",
      "Category: Pants on Fire, Number of claims: 8\n",
      "Total claims: 232\n",
      "\n",
      "\n",
      "Issue: education\n",
      "Category: True, Number of claims: 16\n",
      "Category: Mostly True, Number of claims: 21\n",
      "Category: Half True, Number of claims: 27\n",
      "Category: Mostly False, Number of claims: 36\n",
      "Category: False, Number of claims: 54\n",
      "Category: Pants on Fire, Number of claims: 13\n",
      "Total claims: 167\n",
      "\n",
      "\n",
      "Issue: energy\n",
      "Category: True, Number of claims: 6\n",
      "Category: Mostly True, Number of claims: 10\n",
      "Category: Half True, Number of claims: 28\n",
      "Category: Mostly False, Number of claims: 28\n",
      "Category: False, Number of claims: 29\n",
      "Category: Pants on Fire, Number of claims: 7\n",
      "Total claims: 108\n",
      "\n",
      "\n",
      "Issue: environment\n",
      "Category: True, Number of claims: 5\n",
      "Category: Mostly True, Number of claims: 6\n",
      "Category: Half True, Number of claims: 10\n",
      "Category: Mostly False, Number of claims: 12\n",
      "Category: False, Number of claims: 64\n",
      "Category: Pants on Fire, Number of claims: 19\n",
      "Total claims: 116\n",
      "\n",
      "\n",
      "Issue: ethics\n",
      "Category: True, Number of claims: 1\n",
      "Category: Mostly True, Number of claims: 1\n",
      "Category: Half True, Number of claims: 1\n",
      "Category: Mostly False, Number of claims: 1\n",
      "Category: False, Number of claims: 1\n",
      "Category: Pants on Fire, Number of claims: 0\n",
      "Total claims: 5\n",
      "\n",
      "\n",
      "Issue: food\n",
      "Category: True, Number of claims: 6\n",
      "Category: Mostly True, Number of claims: 2\n",
      "Category: Half True, Number of claims: 4\n",
      "Category: Mostly False, Number of claims: 10\n",
      "Category: False, Number of claims: 49\n",
      "Category: Pants on Fire, Number of claims: 16\n",
      "Total claims: 87\n",
      "\n",
      "\n",
      "Issue: guns\n",
      "Category: True, Number of claims: 7\n",
      "Category: Mostly True, Number of claims: 16\n",
      "Category: Half True, Number of claims: 17\n",
      "Category: Mostly False, Number of claims: 18\n",
      "Category: False, Number of claims: 65\n",
      "Category: Pants on Fire, Number of claims: 15\n",
      "Total claims: 138\n",
      "\n",
      "\n",
      "Issue: health-care\n",
      "Category: True, Number of claims: 11\n",
      "Category: Mostly True, Number of claims: 22\n",
      "Category: Half True, Number of claims: 27\n",
      "Category: Mostly False, Number of claims: 31\n",
      "Category: False, Number of claims: 88\n",
      "Category: Pants on Fire, Number of claims: 16\n",
      "Total claims: 195\n",
      "\n",
      "\n",
      "Issue: housing\n",
      "Category: True, Number of claims: 3\n",
      "Category: Mostly True, Number of claims: 2\n",
      "Category: Half True, Number of claims: 4\n",
      "Category: Mostly False, Number of claims: 5\n",
      "Category: False, Number of claims: 8\n",
      "Category: Pants on Fire, Number of claims: 0\n",
      "Total claims: 22\n",
      "\n",
      "\n",
      "Issue: human-rights\n",
      "Category: True, Number of claims: 0\n",
      "Category: Mostly True, Number of claims: 0\n",
      "Category: Half True, Number of claims: 0\n",
      "Category: Mostly False, Number of claims: 1\n",
      "Category: False, Number of claims: 7\n",
      "Category: Pants on Fire, Number of claims: 1\n",
      "Total claims: 9\n",
      "\n",
      "\n",
      "Issue: history\n",
      "Category: True, Number of claims: 1\n",
      "Category: Mostly True, Number of claims: 5\n",
      "Category: Half True, Number of claims: 4\n",
      "Category: Mostly False, Number of claims: 5\n",
      "Category: False, Number of claims: 29\n",
      "Category: Pants on Fire, Number of claims: 12\n",
      "Total claims: 56\n",
      "\n",
      "\n",
      "Issue: military\n",
      "Category: True, Number of claims: 5\n",
      "Category: Mostly True, Number of claims: 4\n",
      "Category: Half True, Number of claims: 13\n",
      "Category: Mostly False, Number of claims: 16\n",
      "Category: False, Number of claims: 80\n",
      "Category: Pants on Fire, Number of claims: 25\n",
      "Total claims: 143\n",
      "\n",
      "\n",
      "Issue: natural-disasters\n",
      "Category: True, Number of claims: 1\n",
      "Category: Mostly True, Number of claims: 2\n",
      "Category: Half True, Number of claims: 2\n",
      "Category: Mostly False, Number of claims: 3\n",
      "Category: False, Number of claims: 43\n",
      "Category: Pants on Fire, Number of claims: 10\n",
      "Total claims: 61\n",
      "\n",
      "\n",
      "Issue: welfare\n",
      "Category: True, Number of claims: 1\n",
      "Category: Mostly True, Number of claims: 0\n",
      "Category: Half True, Number of claims: 2\n",
      "Category: Mostly False, Number of claims: 2\n",
      "Category: False, Number of claims: 2\n",
      "Category: Pants on Fire, Number of claims: 0\n",
      "Total claims: 7\n",
      "\n",
      "\n",
      "Issue: weather\n",
      "Category: True, Number of claims: 3\n",
      "Category: Mostly True, Number of claims: 4\n",
      "Category: Half True, Number of claims: 1\n",
      "Category: Mostly False, Number of claims: 1\n",
      "Category: False, Number of claims: 57\n",
      "Category: Pants on Fire, Number of claims: 16\n",
      "Total claims: 82\n",
      "\n",
      "\n",
      "Issue: taxes\n",
      "Category: True, Number of claims: 7\n",
      "Category: Mostly True, Number of claims: 20\n",
      "Category: Half True, Number of claims: 22\n",
      "Category: Mostly False, Number of claims: 42\n",
      "Category: False, Number of claims: 37\n",
      "Category: Pants on Fire, Number of claims: 7\n",
      "Total claims: 135\n",
      "\n",
      "\n",
      "Issue: technology\n",
      "Category: True, Number of claims: 3\n",
      "Category: Mostly True, Number of claims: 4\n",
      "Category: Half True, Number of claims: 5\n",
      "Category: Mostly False, Number of claims: 7\n",
      "Category: False, Number of claims: 70\n",
      "Category: Pants on Fire, Number of claims: 18\n",
      "Total claims: 107\n",
      "\n",
      "\n",
      "Issue: sports\n",
      "Category: True, Number of claims: 2\n",
      "Category: Mostly True, Number of claims: 2\n",
      "Category: Half True, Number of claims: 6\n",
      "Category: Mostly False, Number of claims: 11\n",
      "Category: False, Number of claims: 97\n",
      "Category: Pants on Fire, Number of claims: 19\n",
      "Total claims: 137\n",
      "\n",
      "\n",
      "Issue: science\n",
      "Category: True, Number of claims: 0\n",
      "Category: Mostly True, Number of claims: 2\n",
      "Category: Half True, Number of claims: 3\n",
      "Category: Mostly False, Number of claims: 5\n",
      "Category: False, Number of claims: 70\n",
      "Category: Pants on Fire, Number of claims: 18\n",
      "Total claims: 98\n",
      "\n",
      "\n",
      "Issue: religion\n",
      "Category: True, Number of claims: 0\n",
      "Category: Mostly True, Number of claims: 1\n",
      "Category: Half True, Number of claims: 4\n",
      "Category: Mostly False, Number of claims: 3\n",
      "Category: False, Number of claims: 47\n",
      "Category: Pants on Fire, Number of claims: 9\n",
      "Total claims: 64\n",
      "\n",
      "\n",
      "Issue: lgbtq\n",
      "Category: True, Number of claims: 0\n",
      "Category: Mostly True, Number of claims: 7\n",
      "Category: Half True, Number of claims: 4\n",
      "Category: Mostly False, Number of claims: 16\n",
      "Category: False, Number of claims: 76\n",
      "Category: Pants on Fire, Number of claims: 13\n",
      "Total claims: 116\n",
      "\n",
      "\n"
     ]
    }
   ],
   "source": [
    "# Count the number of claims per issue\n",
    "# intiailize with keys as categories\n",
    "overall_distribution = {label: 0 for label in ruling_map.keys()}\n",
    "\n",
    "for issue, claims_by_category in claims_by_issue.items():\n",
    "    print(f\"Issue: {issue}\")\n",
    "    total_claims = 0\n",
    "    for category, claims in claims_by_category.items():\n",
    "        overall_distribution[category] += len(claims)\n",
    "        print(f\"Category: {category}, Number of claims: {len(claims)}\")\n",
    "        total_claims += len(claims)\n",
    "\n",
    "    # Lets generate a graph per issue that gives a breakdown of the number of claims per category\n",
    "    print(f\"Total claims: {total_claims}\")\n",
    "    # plt.bar(claims_by_category.keys(), [len(claims) for claims in claims_by_category.values()])\n",
    "    # plt.show()\n",
    "    print(\"\\n\")"
   ]
  },
  {
   "cell_type": "code",
   "execution_count": 13,
   "metadata": {},
   "outputs": [
    {
     "name": "stdout",
     "output_type": "stream",
     "text": [
      "{'True': 155, 'Mostly True': 273, 'Half True': 394, 'Mostly False': 531, 'False': 1601, 'Pants on Fire': 425}\n",
      "Total claims: 3379\n"
     ]
    },
    {
     "data": {
      "image/png": "[encoded data removed]",
      "text/plain": [
       "<Figure size 640x480 with 1 Axes>"
      ]
     },
     "metadata": {},
     "output_type": "display_data"
    }
   ],
   "source": [
    "print(overall_distribution)\n",
    "print(\"Total claims:\", sum(overall_distribution.values()))\n",
    "\n",
    "# Plot the overall distribution\n",
    "plt.bar(overall_distribution.keys(), overall_distribution.values())\n",
    "plt.show()"
   ]
  },
  {
   "cell_type": "code",
   "execution_count": null,
   "metadata": {},
   "outputs": [],
   "source": []
  }
 ],
 "metadata": {
  "kernelspec": {
   "display_name": "thesis",
   "language": "python",
   "name": "python3"
  },
  "language_info": {
   "codemirror_mode": {
    "name": "ipython",
    "version": 3
   },
   "file_extension": ".py",
   "mimetype": "text/x-python",
   "name": "python",
   "nbconvert_exporter": "python",
   "pygments_lexer": "ipython3",
   "version": "3.12.5"
  }
 },
 "nbformat": 4,
 "nbformat_minor": 2
}
