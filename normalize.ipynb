{
 "cells": [
  {
   "cell_type": "code",
   "execution_count": 1,
   "metadata": {},
   "outputs": [],
   "source": [
    "import pandas as pd\n",
    "import ast\n",
    "from ftlangdetect import detect\n",
    "import json\n",
    "\n",
    "# Load the dataset\n",
    "df = pd.read_csv('data/fnd_politifact_claims_final.csv')\n",
    "\n",
    "# Load impact scores\n",
    "with open('data/claim_impact_scores.json', 'r') as f:\n",
    "    impact_scores = json.load(f)\n",
    "\n",
    "# Load claim credibility scores\n",
    "with open('data/claim_credibility.json', 'r') as f:\n",
    "    claim_credibility_scores = json.load(f)\n",
    "\n",
    "# Load claim queries\n",
    "with open('data/claim_queries.json', 'r') as f:\n",
    "    claim_queries = json.load(f)"
   ]
  },
  {
   "cell_type": "markdown",
   "metadata": {},
   "source": [
    "### Remove all non-English claims"
   ]
  },
  {
   "cell_type": "code",
   "execution_count": null,
   "metadata": {},
   "outputs": [
    {
     "name": "stdout",
     "output_type": "stream",
     "text": [
      "Filtered Dataset size:  2557\n"
     ]
    }
   ],
   "source": [
    "df_english = pd.DataFrame()\n",
    "\n",
    "english_claim_count = 0\n",
    "\n",
    "for row in df.iterrows():\n",
    "    claim_text = row[1].claim.replace(\"\\n\", \" \")\n",
    "    if detect(claim_text)[\"lang\"] != \"en\":\n",
    "        continue\n",
    "        \n",
    "    df_english = pd.concat([df_english, row[1].to_frame().T])\n",
    "    english_claim_count += 1\n",
    "\n",
    "# Reset index after all concatenations\n",
    "df_english = df_english.reset_index(drop=True)\n",
    "print(\"Filtered Dataset size: \", len(df_english))\n",
    "\n",
    "# Convert claim_date column from datetime64[ns] to string format \"Month Day, Year\"\n",
    "df_english['claim_date'] = df_english['claim_date'].dt.strftime('%B %d, %Y')"
   ]
  },
  {
   "cell_type": "markdown",
   "metadata": {},
   "source": [
    "### Each claim must be convered to a JSON object"
   ]
  },
  {
   "cell_type": "code",
   "execution_count": 24,
   "metadata": {},
   "outputs": [],
   "source": [
    "# Each claim is JSON object of the format:\n",
    "\n",
    "# 0. claim_id\n",
    "# 1. claim\n",
    "# 2. claim_factcheck_url\n",
    "# 3. claim_author\n",
    "# 4. claim_source\n",
    "# 5. claim_date\n",
    "# 6. fact_check_date\n",
    "# 7. justification\n",
    "# 8. fact_checking_sources\n",
    "# 9. issue\n",
    "# 10. label\n",
    "# 11. queries\n",
    "# 11. domain_authority_metrics => {\n",
    "#     \"domain_age\",\n",
    "#     \"tld_score\",\n",
    "#     \"page_rank\",\n",
    "#     \"bias_rating_score\",\n",
    "#     \"factual_rating_score\",\n",
    "#     \"credibility_rating_score\"\n",
    "# }\n",
    "# 12. impact_analysis => {\n",
    "#     \"Impact Score\",\n",
    "#     \"Justification\"\n",
    "# }"
   ]
  },
  {
   "cell_type": "code",
   "execution_count": null,
   "metadata": {},
   "outputs": [],
   "source": [
    "dataset_json = []\n",
    "for row in df_english.iterrows():\n",
    "    claim_id = row[0]\n",
    "    dataset_json.append({\n",
    "        \"claim_id\": claim_id,\n",
    "        \"claim\": row[1].claim,\n",
    "        \"claim_factcheck_url\": row[1].claim_factcheck_url,\n",
    "        \"claim_author\": row[1].claim_author,\n",
    "        \"claim_source\": row[1].claim_source,\n",
    "        \"claim_date\": row[1].claim_date,\n",
    "        \"fact_check_date\": row[1].fact_check_date,\n",
    "        \"justification\": row[1].justification,\n",
    "        \"fact_checking_sources\": row[1].fact_checking_sources,\n",
    "        \"issue\": row[1].issue,\n",
    "        \"label\": row[1].label,\n",
    "        \"queries\": [q[0]for q in claim_queries[row[1].claim]],\n",
    "        \"domain_authority_metrics\": claim_credibility_scores[row[1].claim],\n",
    "        \"impact_analysis\": impact_scores[row[1].claim]\n",
    "    })\n",
    "\n",
    "with open('data/dataset_politifact.json', 'w') as f:\n",
    "    json.dump(dataset_json, f, indent=4)"
   ]
  },
  {
   "cell_type": "code",
   "execution_count": 2,
   "metadata": {},
   "outputs": [
    {
     "data": {
      "text/plain": [
       "{'claim_id': 0,\n",
       " 'claim': '“JD Vance actually sent a letter last year to the Department of Justice saying, ‘enforce the Comstock Act.’”',\n",
       " 'claim_factcheck_url': 'https://www.politifact.com/factchecks/2024/aug/30/elizabeth-warren/jd-vance-joined-republican-letter-urging-doj-to-en/',\n",
       " 'claim_author': 'Elizabeth Warren',\n",
       " 'claim_source': 'an interview',\n",
       " 'claim_date': 'August 25, 2024',\n",
       " 'fact_check_date': 'August 30, 2024',\n",
       " 'justification': 'Warren said Vance sent a letter to the Justice Department asking it to enforce the Comstock Act.\\n\\nVance in 2023 signed onto a letter to the department with about 40 other Republicans. The letter challenged the department’s interpretation of the law and demanded that it shut down all mailing of abortion pills.\\nSince becoming the Republican vice presidential candidate, Vance has said he supports a Supreme Court decision that left abortion medication on the market.\\n\\nWarren’s statement is accurate. We rate it True.',\n",
       " 'fact_checking_sources': \"['https://www.nbcnews.com/meet-the-press/meet-press-august-25-2024-n1310508', 'https://www.documentcloud.org/documents/24834197-20230123-letter-on-comstock-to-doj', 'https://www.justice.gov/olc/opinion/application-comstock-act-mailing-prescription-drugs-can-be-used-abortions', 'https://www.washingtonpost.com/health/2024/07/17/jd-vance-abortion-comstock-vice-presidential-nominee/', 'https://www.nytimes.com/2024/02/17/us/politics/trump-allies-abortion-restrictions.html', 'https://www.npr.org/2024/04/10/1243802678/abortion-comstock-act', 'https://www.kff.org/womens-health-policy/issue-brief/the-comstock-act-implications-for-abortion-care-nationwide/', 'https://www.nbcnews.com/meet-the-press/meet-press-july-7-2024-n1310187']\",\n",
       " 'issue': \"['abortion', 'health-care']\",\n",
       " 'label': 'True',\n",
       " 'queries': ['What is the Comstock Act',\n",
       "  \"JD Vance's letter to the Department of Justice said 'enforce the Comstock Act'\",\n",
       "  'When did JD Vance send a letter to the Department of Justice',\n",
       "  'JD Vance sent a letter to the Department of Justice last year'],\n",
       " 'domain_authority_metrics': {'domain_age': 27.00563600782779,\n",
       "  'tld_score': 7.685714285714286,\n",
       "  'page_rank': 5.857142857142857,\n",
       "  'bias_rating_score': 2.4210526315789473,\n",
       "  'factual_rating_score': 4.157894736842105,\n",
       "  'credibility_rating_score': 3.6842105263157894},\n",
       " 'impact_analysis': {'Justification': 'This claim involves a political figure (JD Vance) and a specific legal act (Comstock Act), which relates to abortion access. If widely believed, it could fuel political debate and potentially influence public opinion on abortion rights, a highly sensitive and polarized topic. It could also impact voter perception of JD Vance and his political agenda, leading to political polarization and social unrest.',\n",
       "  'Impact Score': 7}}"
      ]
     },
     "execution_count": 2,
     "metadata": {},
     "output_type": "execute_result"
    }
   ],
   "source": [
    "dataset_json[0]"
   ]
  }
 ],
 "metadata": {
  "kernelspec": {
   "display_name": "thesis",
   "language": "python",
   "name": "python3"
  },
  "language_info": {
   "codemirror_mode": {
    "name": "ipython",
    "version": 3
   },
   "file_extension": ".py",
   "mimetype": "text/x-python",
   "name": "python",
   "nbconvert_exporter": "python",
   "pygments_lexer": "ipython3",
   "version": "3.12.5"
  }
 },
 "nbformat": 4,
 "nbformat_minor": 2
}
