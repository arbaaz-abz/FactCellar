{
 "cells": [
  {
   "cell_type": "code",
   "execution_count": 2,
   "metadata": {},
   "outputs": [
    {
     "data": {
      "text/plain": [
       "(Index(['claim', 'claim_factcheck_url', 'claim_author', 'claim_source',\n",
       "        'claim_date', 'fact_check_date', 'justification',\n",
       "        'fact_checking_sources', 'issue', 'label'],\n",
       "       dtype='object'),\n",
       " 2684)"
      ]
     },
     "execution_count": 2,
     "metadata": {},
     "output_type": "execute_result"
    }
   ],
   "source": [
    "import pandas as pd\n",
    "import json\n",
    "import os\n",
    "from tqdm import tqdm\n",
    "\n",
    "def parse_gemini_response(response_text):\n",
    "    json_str = response_text.split('```json\\n')[1].split('\\n```')[0]\n",
    "    info = json.loads(json_str)\n",
    "    return info\n",
    "\n",
    "# Question generation prompt\n",
    "with open(\"prompts/impact_extraction_v2.txt\", \"r\") as f:\n",
    "    impact_prompt_template = f.read()\n",
    "\n",
    "# Save all claims and search results\n",
    "save_folder = \"data\"\n",
    "\n",
    "df = pd.read_csv('data/fnd_politifact_claims_final.csv')\n",
    "df.columns, len(df)"
   ]
  },
  {
   "cell_type": "code",
   "execution_count": 3,
   "metadata": {},
   "outputs": [
    {
     "name": "stdout",
     "output_type": "stream",
     "text": [
      "1999 claims already processed\n"
     ]
    },
    {
     "name": "stderr",
     "output_type": "stream",
     "text": [
      "/Users/abz/mambaforge/envs/thesis/lib/python3.12/site-packages/tqdm/auto.py:21: TqdmWarning: IProgress not found. Please update jupyter and ipywidgets. See https://ipywidgets.readthedocs.io/en/stable/user_install.html\n",
      "  from .autonotebook import tqdm as notebook_tqdm\n"
     ]
    }
   ],
   "source": [
    "from utils.gemini_interface_parallel import batch_process\n",
    "\n",
    "secrets_file = \"secrets/gemini_keys_new.json\"\n",
    "model_name = \"gemini-2.0-flash-exp\"\n",
    "# model_name = \"gemini-1.5-flash-latest\"\n",
    "temperature = 0.25\n",
    "top_p = 0.95\n",
    "\n",
    "# Generate impact score for all claims\n",
    "claim_iscores_filename = f\"{save_folder}/claim_impact_scores.json\"\n",
    "try:    \n",
    "    with open(claim_iscores_filename, \"r\", encoding=\"utf-8\") as fp:\n",
    "        claim_iscores = json.load(fp)\n",
    "except FileNotFoundError:\n",
    "    claim_iscores = {}\n",
    "\n",
    "print(f\"{len(claim_iscores)} claims already processed\")"
   ]
  },
  {
   "cell_type": "code",
   "execution_count": null,
   "metadata": {},
   "outputs": [],
   "source": [
    "prompts = []\n",
    "for index, row in tqdm(df.iterrows(), total=len(df)):\n",
    "    if index == 2000:\n",
    "        break\n",
    "\n",
    "    claim = row[\"claim\"]\n",
    "    if claim in claim_iscores:\n",
    "        continue\n",
    "    \n",
    "    claim_author = row[\"claim_author\"].strip() if \"claim_author\" in row and pd.notna(row[\"claim_author\"]) and row[\"claim_author\"] is not None else \"UNKNOWN\"\n",
    "    claim_source = row[\"claim_source\"].strip() if \"claim_source\" in row and pd.notna(row[\"claim_source\"]) and row[\"claim_source\"] is not None else \"UNKNOWN\"\n",
    "    claim_date = row[\"claim_date\"].strip() if \"claim_date\" in row and pd.notna(row[\"claim_date\"]) and row[\"claim_date\"] is not None else \"UNKNOWN\"\n",
    "    # Generate questions using Gemini API\n",
    "    prompt = impact_prompt_template.replace(\"[Insert Claim Here]\", claim)\\\n",
    "        .replace(\"[Insert Source Here]\", claim_source)\\\n",
    "        .replace(\"[Insert Author Here]\", claim_author)\\\n",
    "        .replace(\"[Insert Date Here]\", claim_date)\n",
    "    \n",
    "    prompts.append(\n",
    "                    (\"chat\", \n",
    "                     prompt,\n",
    "                     claim\n",
    "                    )\n",
    "                )\n",
    "    \n",
    "print(\"Total prompts:\", len(prompts))\n",
    "    \n",
    "responses = batch_process(prompts, secrets_file, model_name, temperature, top_p)\n",
    "\n",
    "failed_row_ids = []\n",
    "for response in responses:\n",
    "    claim = response[1]\n",
    "    if response[0] is None:\n",
    "        failed_row_ids.append(claim)\n",
    "        continue\n",
    "\n",
    "    try:    \n",
    "        claim_iscores[claim] = parse_gemini_response(response[0].text)\n",
    "    except:\n",
    "        print(\"Failed to parse response for claim:\", claim)\n",
    "        print(response)\n",
    "        continue\n",
    "\n",
    "\n",
    "print(\"Total failed claims:\", len(failed_row_ids))\n",
    "\n",
    "# Save claim_iscores after each claim\n",
    "with open(claim_iscores_filename, \"w\", encoding=\"utf-8\") as fp:\n",
    "    json.dump(claim_iscores, fp, indent=4)"
   ]
  },
  {
   "cell_type": "code",
   "execution_count": 4,
   "metadata": {},
   "outputs": [
    {
     "data": {
      "image/png": "[encoded data removed]",
      "text/plain": [
       "<Figure size 640x480 with 1 Axes>"
      ]
     },
     "metadata": {},
     "output_type": "display_data"
    }
   ],
   "source": [
    "# Build a graph of the histogram of the impact scores\n",
    "import matplotlib.pyplot as plt\n",
    "\n",
    "plt.hist([obj[\"Impact Score\"] for obj in claim_iscores.values()], bins=10, color='skyblue', edgecolor='black')\n",
    "plt.grid(axis='y', alpha=0.75)\n",
    "plt.title('Distribution of Impact Scores')\n",
    "plt.xlabel('Impact Score')\n",
    "plt.ylabel('Frequency')\n",
    "plt.show()"
   ]
  },
  {
   "cell_type": "code",
   "execution_count": 5,
   "metadata": {},
   "outputs": [],
   "source": [
    "scores_map = {}\n",
    "for claim, obj in claim_iscores.items():\n",
    "    if obj[\"Impact Score\"] not in scores_map:\n",
    "        scores_map[obj[\"Impact Score\"]] = [(claim, obj[\"Justification\"])]\n",
    "    else:\n",
    "        scores_map[obj[\"Impact Score\"]].append((claim, obj[\"Justification\"]))"
   ]
  },
  {
   "cell_type": "code",
   "execution_count": 12,
   "metadata": {},
   "outputs": [
    {
     "name": "stdout",
     "output_type": "stream",
     "text": [
      "Claim: Chinese scientists “created (a) new COVID-19 strain (with) 100% fatality.”\n",
      "Justification: The claim is highly sensational and alarming, suggesting a deliberately created, extremely lethal virus\n",
      " The source being an Instagram post means it has the potential to reach a wide audience, especially if shared widely\n",
      " The claim is likely false, but the potential for panic, fear, and distrust is very high\n",
      " It could also incite xenophobia and international tensions\n",
      " The combination of a sensational claim, potential for wide reach, and potential for harm warrants a very high impact score\n",
      "\n"
     ]
    }
   ],
   "source": [
    "import random\n",
    "\n",
    "test_score = 9\n",
    "\n",
    "if test_score in scores_map:\n",
    "    scores_obj = scores_map[test_score]\n",
    "    claim_tuple = random.choice(scores_obj)\n",
    "    print(\"Claim:\", claim_tuple[0])\n",
    "    print(\"Justification:\", '\\n'.join(claim_tuple[1].split(\".\")))\n",
    "else:\n",
    "    print(\"No claims found for score:\", test_score)"
   ]
  },
  {
   "cell_type": "code",
   "execution_count": null,
   "metadata": {},
   "outputs": [],
   "source": []
  }
 ],
 "metadata": {
  "kernelspec": {
   "display_name": "thesis",
   "language": "python",
   "name": "python3"
  },
  "language_info": {
   "codemirror_mode": {
    "name": "ipython",
    "version": 3
   },
   "file_extension": ".py",
   "mimetype": "text/x-python",
   "name": "python",
   "nbconvert_exporter": "python",
   "pygments_lexer": "ipython3",
   "version": "3.12.5"
  }
 },
 "nbformat": 4,
 "nbformat_minor": 2
}
